{
 "cells": [
  {
   "attachments": {},
   "cell_type": "markdown",
   "id": "062770fe",
   "metadata": {},
   "source": [
    "# Data Dictionary"
   ]
  },
  {
   "attachments": {},
   "cell_type": "markdown",
   "id": "ad6b588a",
   "metadata": {},
   "source": [
    "|Feature|Type|Description|\n",
    "|---|---|---|\n",
    "|Product_Code|*string*|The product name encoded|\n",
    "|Warehouse|*string*|Warehouse ID|\n",
    "|Product_Category|*string*|Product category of each product|\n",
    "|Date|*string*|The date customer needs the product|\n",
    "|Order_Demand|*string*|Order quantity|"
   ]
  },
  {
   "cell_type": "code",
   "execution_count": 255,
   "id": "52f64c2b",
   "metadata": {},
   "outputs": [],
   "source": [
    "# Import libraries.\n",
    "import numpy as np\n",
    "import pandas as pd\n",
    "import matplotlib.pyplot as plt\n",
    "import tensorflow as tf\n",
    "\n",
    "from numpy import array\n",
    "from sklearn.metrics import mean_squared_error\n",
    "from sklearn.preprocessing import MinMaxScaler\n",
    "from sklearn.preprocessing import StandardScaler\n",
    "from tensorflow.keras.models import Sequential\n",
    "from tensorflow.keras.layers import LSTM, GRU, Dense\n",
    "from tensorflow.keras.optimizers import Adam\n",
    "from tensorflow_addons.metrics import RSquare\n",
    "from tensorflow.keras.callbacks import EarlyStopping"
   ]
  },
  {
   "cell_type": "code",
   "execution_count": 256,
   "id": "59efff99",
   "metadata": {},
   "outputs": [
    {
     "data": {
      "text/plain": [
       "(924272, 5)"
      ]
     },
     "execution_count": 256,
     "metadata": {},
     "output_type": "execute_result"
    }
   ],
   "source": [
    "# Read csv file and display shape.\n",
    "df = pd.read_csv('../Data_Historical/df2.csv').iloc[:,1:]\n",
    "df.shape"
   ]
  },
  {
   "cell_type": "code",
   "execution_count": 257,
   "id": "5487f4aa",
   "metadata": {},
   "outputs": [
    {
     "data": {
      "text/html": [
       "<div>\n",
       "<style scoped>\n",
       "    .dataframe tbody tr th:only-of-type {\n",
       "        vertical-align: middle;\n",
       "    }\n",
       "\n",
       "    .dataframe tbody tr th {\n",
       "        vertical-align: top;\n",
       "    }\n",
       "\n",
       "    .dataframe thead th {\n",
       "        text-align: right;\n",
       "    }\n",
       "</style>\n",
       "<table border=\"1\" class=\"dataframe\">\n",
       "  <thead>\n",
       "    <tr style=\"text-align: right;\">\n",
       "      <th></th>\n",
       "      <th>Product_Code</th>\n",
       "      <th>Warehouse</th>\n",
       "      <th>Product_Category</th>\n",
       "      <th>Date</th>\n",
       "      <th>Order_Demand</th>\n",
       "    </tr>\n",
       "  </thead>\n",
       "  <tbody>\n",
       "    <tr>\n",
       "      <th>0</th>\n",
       "      <td>Product_0965</td>\n",
       "      <td>Whse_A</td>\n",
       "      <td>Category_006</td>\n",
       "      <td>2011-01-08</td>\n",
       "      <td>2</td>\n",
       "    </tr>\n",
       "    <tr>\n",
       "      <th>1</th>\n",
       "      <td>Product_1724</td>\n",
       "      <td>Whse_A</td>\n",
       "      <td>Category_003</td>\n",
       "      <td>2011-05-31</td>\n",
       "      <td>108</td>\n",
       "    </tr>\n",
       "    <tr>\n",
       "      <th>2</th>\n",
       "      <td>Product_1521</td>\n",
       "      <td>Whse_S</td>\n",
       "      <td>Category_019</td>\n",
       "      <td>2011-06-24</td>\n",
       "      <td>85000</td>\n",
       "    </tr>\n",
       "    <tr>\n",
       "      <th>3</th>\n",
       "      <td>Product_1521</td>\n",
       "      <td>Whse_S</td>\n",
       "      <td>Category_019</td>\n",
       "      <td>2011-06-24</td>\n",
       "      <td>7000</td>\n",
       "    </tr>\n",
       "    <tr>\n",
       "      <th>4</th>\n",
       "      <td>Product_1507</td>\n",
       "      <td>Whse_C</td>\n",
       "      <td>Category_019</td>\n",
       "      <td>2011-09-02</td>\n",
       "      <td>1250</td>\n",
       "    </tr>\n",
       "  </tbody>\n",
       "</table>\n",
       "</div>"
      ],
      "text/plain": [
       "   Product_Code Warehouse Product_Category        Date  Order_Demand\n",
       "0  Product_0965    Whse_A     Category_006  2011-01-08             2\n",
       "1  Product_1724    Whse_A     Category_003  2011-05-31           108\n",
       "2  Product_1521    Whse_S     Category_019  2011-06-24         85000\n",
       "3  Product_1521    Whse_S     Category_019  2011-06-24          7000\n",
       "4  Product_1507    Whse_C     Category_019  2011-09-02          1250"
      ]
     },
     "execution_count": 257,
     "metadata": {},
     "output_type": "execute_result"
    }
   ],
   "source": [
    "df.head()"
   ]
  },
  {
   "cell_type": "code",
   "execution_count": 258,
   "id": "00da21e9",
   "metadata": {},
   "outputs": [],
   "source": [
    "# Set a seed.\n",
    "tf.random.set_seed(12)"
   ]
  },
  {
   "cell_type": "code",
   "execution_count": 259,
   "id": "13a6bc5a",
   "metadata": {},
   "outputs": [],
   "source": [
    "# Function to clean and resample order demand.\n",
    "def get_product(data,product_code):\n",
    "    df_init = data[data['Product_Code']==product_code]\n",
    "    df_init['Date'] = pd.to_datetime(df_init['Date'])\n",
    "    df_init = df_init.set_index('Date')\n",
    "    df_out = pd.DataFrame(df_init['Order_Demand'].resample('W').sum())\n",
    "    df_out.rename(columns={'Order_Demand':'demand'+'_'+product_code[-4:]}, inplace=True)\n",
    "    return df_out\n",
    "    "
   ]
  },
  {
   "cell_type": "code",
   "execution_count": 260,
   "id": "8132b80b",
   "metadata": {},
   "outputs": [],
   "source": [
    "# split a univariate sequence\n",
    "def split_sequence(sequence, n_steps):\n",
    " X, y = list(), list()\n",
    " \n",
    " for i in range(len(sequence)):\n",
    "    # find the end of this pattern\n",
    "    end_ix = i + n_steps\n",
    "    \n",
    "    # check if we are beyond the sequence\n",
    "    if end_ix > len(sequence)-1:\n",
    "        break\n",
    "    \n",
    "    # gather input and output parts of the pattern\n",
    "    seq_x, seq_y = sequence[i:end_ix], sequence[end_ix]\n",
    "    X.append(seq_x)\n",
    "    y.append(seq_y)\n",
    " return array(X), array(y)"
   ]
  },
  {
   "cell_type": "code",
   "execution_count": 261,
   "id": "ba809041",
   "metadata": {},
   "outputs": [],
   "source": [
    "# Function to apply standard scaling to input.\n",
    "def scale(X_train, X_test):\n",
    " # fit scaler\n",
    " scaler = StandardScaler()\n",
    " # Fit & transform train\n",
    " X_train = scaler.fit_transform(X_train.reshape(-1, X_train.shape[-1])).reshape(X_train.shape)\n",
    " # Transform test\n",
    " X_test = scaler.transform(X_test.reshape(-1, X_test.shape[-1])).reshape(X_test.shape)\n",
    " return scaler, X_train, X_test"
   ]
  },
  {
   "cell_type": "code",
   "execution_count": null,
   "id": "1b16e965",
   "metadata": {},
   "outputs": [],
   "source": [
    "# Function to find the best epoch.\n",
    "def find_best_epoch(history):\n",
    "    model_history = pd.DataFrame(history).reset_index()\n",
    "    model_history.rename(columns = {'index':'epoch'}, inplace=True)\n",
    "    model_history['loss_diff'] = (model_history['loss'].map(lambda x: abs(x)) - model_history['val_loss'].map(lambda x: abs(x))).map(lambda x:abs(x))\n",
    "    epoch = model_history[model_history['loss_diff']==model_history['loss_diff'].min()]\n",
    "    epoch = int(epoch.iloc[0]['epoch'])\n",
    "    return epoch"
   ]
  },
  {
   "cell_type": "markdown",
   "id": "be45ac9b",
   "metadata": {},
   "source": [
    "# Function to invert scale.\n",
    "def invert_scale(scaler, X_train, X_test):\n",
    " new_row = [x for x in X]\n",
    " array = np.array(new_row)\n",
    " array = array.reshape(1, len(array))\n",
    " inverted = scaler.inverse_transform(array)\n",
    " return inverted[0, -1]"
   ]
  },
  {
   "cell_type": "code",
   "execution_count": 262,
   "id": "25366697",
   "metadata": {},
   "outputs": [
    {
     "name": "stderr",
     "output_type": "stream",
     "text": [
      "C:\\Users\\Zeonice\\AppData\\Local\\Temp\\ipykernel_14984\\2577529180.py:4: SettingWithCopyWarning: \n",
      "A value is trying to be set on a copy of a slice from a DataFrame.\n",
      "Try using .loc[row_indexer,col_indexer] = value instead\n",
      "\n",
      "See the caveats in the documentation: https://pandas.pydata.org/pandas-docs/stable/user_guide/indexing.html#returning-a-view-versus-a-copy\n",
      "  df_init['Date'] = pd.to_datetime(df_init['Date'])\n"
     ]
    },
    {
     "data": {
      "text/html": [
       "<div>\n",
       "<style scoped>\n",
       "    .dataframe tbody tr th:only-of-type {\n",
       "        vertical-align: middle;\n",
       "    }\n",
       "\n",
       "    .dataframe tbody tr th {\n",
       "        vertical-align: top;\n",
       "    }\n",
       "\n",
       "    .dataframe thead th {\n",
       "        text-align: right;\n",
       "    }\n",
       "</style>\n",
       "<table border=\"1\" class=\"dataframe\">\n",
       "  <thead>\n",
       "    <tr style=\"text-align: right;\">\n",
       "      <th></th>\n",
       "      <th>demand_1359</th>\n",
       "    </tr>\n",
       "    <tr>\n",
       "      <th>Date</th>\n",
       "      <th></th>\n",
       "    </tr>\n",
       "  </thead>\n",
       "  <tbody>\n",
       "    <tr>\n",
       "      <th>2012-01-08</th>\n",
       "      <td>1226000</td>\n",
       "    </tr>\n",
       "    <tr>\n",
       "      <th>2012-01-15</th>\n",
       "      <td>1279000</td>\n",
       "    </tr>\n",
       "    <tr>\n",
       "      <th>2012-01-22</th>\n",
       "      <td>1401000</td>\n",
       "    </tr>\n",
       "    <tr>\n",
       "      <th>2012-01-29</th>\n",
       "      <td>1964000</td>\n",
       "    </tr>\n",
       "    <tr>\n",
       "      <th>2012-02-05</th>\n",
       "      <td>2591000</td>\n",
       "    </tr>\n",
       "  </tbody>\n",
       "</table>\n",
       "</div>"
      ],
      "text/plain": [
       "            demand_1359\n",
       "Date                   \n",
       "2012-01-08      1226000\n",
       "2012-01-15      1279000\n",
       "2012-01-22      1401000\n",
       "2012-01-29      1964000\n",
       "2012-02-05      2591000"
      ]
     },
     "execution_count": 262,
     "metadata": {},
     "output_type": "execute_result"
    }
   ],
   "source": [
    "# Create dataframe of Product 1359.\n",
    "prod_1359 = get_product(df, 'Product_1359')\n",
    "prod_1359.head()"
   ]
  },
  {
   "cell_type": "code",
   "execution_count": 294,
   "id": "41d5a4b1",
   "metadata": {},
   "outputs": [],
   "source": [
    "# define input sequence\n",
    "raw_seq = prod_1359['demand_1359']\n",
    "\n",
    "# choose a number of time steps\n",
    "n_steps = 1\n",
    "\n",
    "# split into samples\n",
    "X, y = split_sequence(raw_seq, n_steps)\n",
    "\n",
    "# reshape from [samples, timesteps] into [samples, timesteps, features]\n",
    "n_features = 1\n",
    "X = X.reshape((X.shape[0], X.shape[1], n_features))"
   ]
  },
  {
   "cell_type": "code",
   "execution_count": 295,
   "id": "9d2e3000",
   "metadata": {},
   "outputs": [
    {
     "data": {
      "text/plain": [
       "(261, 1, 1)"
      ]
     },
     "execution_count": 295,
     "metadata": {},
     "output_type": "execute_result"
    }
   ],
   "source": [
    "X.shape"
   ]
  },
  {
   "cell_type": "code",
   "execution_count": 299,
   "id": "c7a3db8f",
   "metadata": {},
   "outputs": [],
   "source": [
    "# Train test split.\n",
    "X_train = X[0:-12]\n",
    "X_test = X[-12:]\n",
    "y_train = y[0:-12]\n",
    "y_test = y[-12:]\n",
    "\n",
    "# Standard scale input.\n",
    "scaler, X_train_scaled, X_test_scaled = scale(X_train, X_test)"
   ]
  },
  {
   "cell_type": "code",
   "execution_count": 307,
   "id": "4004f59b",
   "metadata": {},
   "outputs": [],
   "source": [
    "# define model\n",
    "model = Sequential()\n",
    "model.add(LSTM(9, activation='relu', return_sequences=True,  input_shape=(n_steps, n_features)))#, dropout=0.5, \n",
    "model.add(LSTM(4, activation='relu'))\n",
    "model.add(Dense(1))\n",
    "model.compile(optimizer=Adam(learning_rate=.001), loss='mse')\n",
    "\n",
    "# es = EarlyStopping(patience = 30)\n",
    "# fit model\n",
    "lstm = model.fit(X_train_scaled, y_train, epochs=500, verbose=0, validation_data=(X_test_scaled, y_test), batch_size=64) #, callbacks = [es]"
   ]
  },
  {
   "cell_type": "code",
   "execution_count": 308,
   "id": "30b4b5c8",
   "metadata": {},
   "outputs": [],
   "source": [
    "# Find the best epoch.\n",
    "lstm_history = pd.DataFrame(lstm.history).reset_index()\n",
    "lstm_history.rename(columns = {'index':'epoch'}, inplace=True)\n",
    "lstm_history['loss_diff'] = (lstm_history['loss'].map(lambda x: abs(x)) - lstm_history['val_loss'].map(lambda x: abs(x))).map(lambda x:abs(x))\n",
    "best_epoch = lstm_history[lstm_history['loss_diff']==lstm_history['loss_diff'].min()]\n",
    "best_epoch = int(best_epoch.iloc[0]['epoch'])"
   ]
  },
  {
   "cell_type": "code",
   "execution_count": 309,
   "id": "493a7583",
   "metadata": {},
   "outputs": [
    {
     "data": {
      "image/png": "[encoded data removed]",
      "text/plain": [
       "<Figure size 800x600 with 1 Axes>"
      ]
     },
     "metadata": {},
     "output_type": "display_data"
    }
   ],
   "source": [
    "# Check out our train loss and test loss over epochs.\n",
    "train_loss = lstm.history['loss']\n",
    "test_loss = lstm.history['val_loss']\n",
    "\n",
    "# Set figure size.\n",
    "plt.figure(figsize=(8, 6))\n",
    "\n",
    "# Generate line plot of training, testing loss over epochs.\n",
    "plt.plot(train_loss, label='Training Loss')\n",
    "plt.plot(test_loss, label='Testing Loss')\n",
    "plt.vlines(x=best_epoch, ymin=0,ymax=max(train_loss), colors='green', linestyles='dotted')\n",
    "\n",
    "# Set title\n",
    "plt.xlabel('Epoch')\n",
    "plt.ylabel('Loss')\n",
    "plt.title(f'The model is best fitted when epoch = {best_epoch}')\n",
    "plt.legend();"
   ]
  },
  {
   "cell_type": "code",
   "execution_count": 310,
   "id": "01cc2f36",
   "metadata": {},
   "outputs": [
    {
     "name": "stdout",
     "output_type": "stream",
     "text": [
      "1/1 [==============================] - 0s 288ms/step\n"
     ]
    },
    {
     "data": {
      "image/png": "[encoded data removed]",
      "text/plain": [
       "<Figure size 800x500 with 1 Axes>"
      ]
     },
     "metadata": {},
     "output_type": "display_data"
    },
    {
     "name": "stdout",
     "output_type": "stream",
     "text": [
      "RMSE of LSTM model is: 850699.977357283\n"
     ]
    }
   ],
   "source": [
    "# Demonstrate predictions.\n",
    "lstm = model.fit(X_train_scaled, y_train, epochs=best_epoch, verbose=0, validation_data=(X_test_scaled, y_test), batch_size=64)\n",
    "preds = model.predict(X_test_scaled[-4:])\n",
    "\n",
    "# Plot data.\n",
    "plt.figure(figsize=(8,5))\n",
    "\n",
    "# Plot testing data.\n",
    "plt.plot(pd.DataFrame(y_test[-4:]).index, pd.DataFrame(y_test[-4:]), color = 'orange')\n",
    "\n",
    "# Plot predicted test values.\n",
    "plt.plot(pd.DataFrame(y_test[-4:]).index, preds, color = 'green')\n",
    "plt.legend(['Test Data','Predictions'])\n",
    "plt.title(label = 'LSTM Predictions', fontsize=16)\n",
    "plt.show();\n",
    "\n",
    "rmse_lstm = mean_squared_error(y_test[-4:], preds, squared=False)\n",
    "print (f'RMSE of LSTM model is: {rmse_lstm}')"
   ]
  },
  {
   "cell_type": "code",
   "execution_count": 314,
   "id": "6f81d315",
   "metadata": {},
   "outputs": [
    {
     "name": "stdout",
     "output_type": "stream",
     "text": [
      "1/1 [==============================] - 0s 182ms/step\n",
      "1/1 [==============================] - 0s 170ms/step\n",
      "1/1 [==============================] - 0s 173ms/step\n",
      "1/1 [==============================] - 0s 180ms/step\n",
      "1/1 [==============================] - 0s 248ms/step\n",
      "1/1 [==============================] - 0s 184ms/step\n",
      "1/1 [==============================] - 0s 174ms/step\n",
      "1/1 [==============================] - 0s 178ms/step\n",
      "1/1 [==============================] - 0s 173ms/step\n",
      "1/1 [==============================] - 0s 171ms/step\n",
      "1/1 [==============================] - 0s 172ms/step\n",
      "1/1 [==============================] - 0s 176ms/step\n",
      "1/1 [==============================] - 0s 176ms/step\n",
      "1/1 [==============================] - 0s 178ms/step\n",
      "1/1 [==============================] - 0s 175ms/step\n",
      "1/1 [==============================] - 0s 173ms/step\n",
      "1/1 [==============================] - 0s 165ms/step\n",
      "1/1 [==============================] - 0s 172ms/step\n",
      "1/1 [==============================] - 0s 171ms/step\n",
      "1/1 [==============================] - 0s 166ms/step\n"
     ]
    }
   ],
   "source": [
    "all_rmse_lstm =list()\n",
    "for n in range (1,41):\n",
    "    # define model\n",
    "    model = Sequential()\n",
    "    model.add(LSTM(n, activation='relu', return_sequences=False,  input_shape=(n_steps, n_features)))#, dropout=0.5, \n",
    "    model.add(Dense(1))\n",
    "    model.compile(optimizer=Adam(learning_rate=.001), loss='mse')\n",
    "\n",
    "    es = EarlyStopping(patience = 30)\n",
    "    # fit model\n",
    "    lstm = model.fit(X_train_scaled, y_train, epochs=1000, verbose=0, validation_data=(X_test_scaled, y_test), batch_size=32, callbacks = [es]) \n",
    "    \n",
    "    # Find the best epoch.\n",
    "    lstm_history = pd.DataFrame(lstm.history).reset_index()\n",
    "    lstm_history.rename(columns = {'index':'epoch'}, inplace=True)\n",
    "    lstm_history['loss_diff'] = (lstm_history['loss'].map(lambda x: abs(x)) - lstm_history['val_loss'].map(lambda x: abs(x))).map(lambda x:abs(x))\n",
    "    best_epoch = lstm_history[lstm_history['loss_diff']==lstm_history['loss_diff'].min()]\n",
    "    best_epoch = int(best_epoch.iloc[0]['epoch'])\n",
    "    \n",
    "    # Demonstrate predictions.\n",
    "    lstm = model.fit(X_train_scaled, y_train, epochs=best_epoch, verbose=0, validation_data=(X_test_scaled, y_test), batch_size=32)\n",
    "    preds = model.predict(X_test_scaled[-4:])\n",
    "    \n",
    "    rmse_lstm = mean_squared_error(y_test[-4:], preds, squared=False)\n",
    "    all_rmse_lstm.append(rmse_lstm)"
   ]
  },
  {
   "cell_type": "code",
   "execution_count": 326,
   "id": "f8bffafe",
   "metadata": {},
   "outputs": [
    {
     "name": "stdout",
     "output_type": "stream",
     "text": [
      "1/1 [==============================] - 0s 296ms/step\n",
      "1/1 [==============================] - 0s 294ms/step\n",
      "1/1 [==============================] - 0s 289ms/step\n",
      "1/1 [==============================] - 0s 299ms/step\n",
      "1/1 [==============================] - 0s 297ms/step\n",
      "1/1 [==============================] - 0s 289ms/step\n",
      "1/1 [==============================] - 1s 567ms/step\n",
      "1/1 [==============================] - 0s 300ms/step\n",
      "1/1 [==============================] - 0s 298ms/step\n",
      "1/1 [==============================] - 0s 304ms/step\n"
     ]
    }
   ],
   "source": [
    "all_rmse_lstm =list()\n",
    "for n in range (1,11):\n",
    "    # define model\n",
    "    model = Sequential()\n",
    "    model.add(LSTM(20, activation='relu', return_sequences=True,  input_shape=(n_steps, n_features)))#, dropout=0.5, \n",
    "    model.add(LSTM(n, activation='relu'))\n",
    "    model.add(Dense(1))\n",
    "    model.compile(optimizer=Adam(learning_rate=.001), loss='mse')\n",
    "\n",
    "    es = EarlyStopping(patience = 30)\n",
    "    # fit model\n",
    "    lstm = model.fit(X_train_scaled, y_train, epochs=1000, verbose=0, validation_data=(X_test_scaled, y_test), batch_size=32, callbacks = [es]) \n",
    "    \n",
    "    # Find the best epoch.\n",
    "    lstm_history = pd.DataFrame(lstm.history).reset_index()\n",
    "    lstm_history.rename(columns = {'index':'epoch'}, inplace=True)\n",
    "    lstm_history['loss_diff'] = (lstm_history['loss'].map(lambda x: abs(x)) - lstm_history['val_loss'].map(lambda x: abs(x))).map(lambda x:abs(x))\n",
    "    best_epoch = lstm_history[lstm_history['loss_diff']==lstm_history['loss_diff'].min()]\n",
    "    best_epoch = int(best_epoch.iloc[0]['epoch'])\n",
    "    \n",
    "    # Demonstrate predictions.\n",
    "    lstm = model.fit(X_train_scaled, y_train, epochs=best_epoch, verbose=0, validation_data=(X_test_scaled, y_test), batch_size=32)\n",
    "    preds = model.predict(X_test_scaled[-4:])\n",
    "    \n",
    "    rmse_lstm = mean_squared_error(y_test[-4:], preds, squared=False)\n",
    "    all_rmse_lstm.append(rmse_lstm)"
   ]
  },
  {
   "cell_type": "code",
   "execution_count": 331,
   "id": "42ba2e9b",
   "metadata": {},
   "outputs": [
    {
     "data": {
      "text/html": [
       "<div>\n",
       "<style scoped>\n",
       "    .dataframe tbody tr th:only-of-type {\n",
       "        vertical-align: middle;\n",
       "    }\n",
       "\n",
       "    .dataframe tbody tr th {\n",
       "        vertical-align: top;\n",
       "    }\n",
       "\n",
       "    .dataframe thead th {\n",
       "        text-align: right;\n",
       "    }\n",
       "</style>\n",
       "<table border=\"1\" class=\"dataframe\">\n",
       "  <thead>\n",
       "    <tr style=\"text-align: right;\">\n",
       "      <th></th>\n",
       "      <th>0</th>\n",
       "    </tr>\n",
       "  </thead>\n",
       "  <tbody>\n",
       "    <tr>\n",
       "      <th>0</th>\n",
       "      <td>758649.279352</td>\n",
       "    </tr>\n",
       "    <tr>\n",
       "      <th>1</th>\n",
       "      <td>615027.411545</td>\n",
       "    </tr>\n",
       "    <tr>\n",
       "      <th>2</th>\n",
       "      <td>855002.437190</td>\n",
       "    </tr>\n",
       "    <tr>\n",
       "      <th>3</th>\n",
       "      <td>716493.189843</td>\n",
       "    </tr>\n",
       "    <tr>\n",
       "      <th>4</th>\n",
       "      <td>566342.043082</td>\n",
       "    </tr>\n",
       "    <tr>\n",
       "      <th>5</th>\n",
       "      <td>635596.499795</td>\n",
       "    </tr>\n",
       "    <tr>\n",
       "      <th>6</th>\n",
       "      <td>480892.322683</td>\n",
       "    </tr>\n",
       "    <tr>\n",
       "      <th>7</th>\n",
       "      <td>516259.846309</td>\n",
       "    </tr>\n",
       "    <tr>\n",
       "      <th>8</th>\n",
       "      <td>516489.051500</td>\n",
       "    </tr>\n",
       "    <tr>\n",
       "      <th>9</th>\n",
       "      <td>658765.815892</td>\n",
       "    </tr>\n",
       "  </tbody>\n",
       "</table>\n",
       "</div>"
      ],
      "text/plain": [
       "               0\n",
       "0  758649.279352\n",
       "1  615027.411545\n",
       "2  855002.437190\n",
       "3  716493.189843\n",
       "4  566342.043082\n",
       "5  635596.499795\n",
       "6  480892.322683\n",
       "7  516259.846309\n",
       "8  516489.051500\n",
       "9  658765.815892"
      ]
     },
     "execution_count": 331,
     "metadata": {},
     "output_type": "execute_result"
    }
   ],
   "source": [
    "# The model has lowest RMSE when n = 7.\n",
    "pd.DataFrame(all_rmse_lstm)"
   ]
  },
  {
   "cell_type": "code",
   "execution_count": null,
   "id": "8dd8b8d9",
   "metadata": {},
   "outputs": [],
   "source": []
  },
  {
   "cell_type": "code",
   "execution_count": 336,
   "id": "dd91533a",
   "metadata": {},
   "outputs": [
    {
     "name": "stdout",
     "output_type": "stream",
     "text": [
      "1999\n",
      "1/1 [==============================] - 0s 284ms/step\n"
     ]
    }
   ],
   "source": [
    "# define model\n",
    "model = Sequential()\n",
    "model.add(LSTM(20, activation='relu', return_sequences=True,  input_shape=(n_steps, n_features)))#, dropout=0.5, \n",
    "model.add(LSTM(7, activation='relu'))\n",
    "model.add(Dense(1))\n",
    "model.compile(optimizer=Adam(learning_rate=.001), loss='mse')\n",
    "\n",
    "es = EarlyStopping(patience = 30)\n",
    "# fit model\n",
    "lstm = model.fit(X_train_scaled, y_train, epochs=1000, verbose=0, validation_data=(X_test_scaled, y_test), batch_size=32, callbacks = [es]) \n",
    "    \n",
    "# Find the best epoch.\n",
    "lstm_history = pd.DataFrame(lstm.history).reset_index()\n",
    "lstm_history.rename(columns = {'index':'epoch'}, inplace=True)\n",
    "lstm_history['loss_diff'] = (lstm_history['loss'].map(lambda x: abs(x)) - lstm_history['val_loss'].map(lambda x: abs(x))).map(lambda x:abs(x))\n",
    "best_epoch = lstm_history[lstm_history['loss_diff']==lstm_history['loss_diff'].min()]\n",
    "best_epoch = int(best_epoch.iloc[0]['epoch'])\n",
    "print (best_epoch)\n",
    "    \n",
    "# Demonstrate predictions.\n",
    "lstm = model.fit(X_train_scaled, y_train, epochs=best_epoch, verbose=0, validation_data=(X_test_scaled, y_test), batch_size=32)\n",
    "preds = model.predict(X_test_scaled[-4:])\n",
    "    \n",
    "rmse_lstm = mean_squared_error(y_test[-4:], preds, squared=False)"
   ]
  },
  {
   "cell_type": "code",
   "execution_count": 337,
   "id": "4ccb63dd",
   "metadata": {},
   "outputs": [
    {
     "data": {
      "text/plain": [
       "1010350.2014115808"
      ]
     },
     "execution_count": 337,
     "metadata": {},
     "output_type": "execute_result"
    }
   ],
   "source": [
    "rmse_lstm"
   ]
  },
  {
   "attachments": {},
   "cell_type": "markdown",
   "id": "e74c1382",
   "metadata": {},
   "source": [
    "# GRU"
   ]
  },
  {
   "cell_type": "code",
   "execution_count": 229,
   "id": "d9d8f79e",
   "metadata": {},
   "outputs": [],
   "source": [
    "# define model\n",
    "model_gru = Sequential()\n",
    "model_gru.add(GRU(20, activation='relu', input_shape=(n_steps, n_features)))#, dropout=0.5\n",
    "#model_gru.add(GRU(5, activation='relu', dropout=0.2))\n",
    "model_gru.add(Dense(1))\n",
    "model_gru.compile(optimizer='adam', loss='mse', metrics=['mape'])\n",
    "\n",
    "# es = EarlyStopping(patience = 30)\n",
    "# fit model\n",
    "gru = model_gru.fit(X_train_scaled, y_train, epochs=1000, verbose=0, validation_data=(X_test_scaled, y_test), batch_size=64) #, callbacks = [es]"
   ]
  },
  {
   "cell_type": "code",
   "execution_count": 230,
   "id": "4218ad54",
   "metadata": {},
   "outputs": [],
   "source": [
    "# Find the best epoch.\n",
    "gru_history = pd.DataFrame(gru.history).reset_index()\n",
    "gru_history.rename(columns = {'index':'epoch'}, inplace=True)\n",
    "gru_history['loss_diff'] = (gru_history['loss'].map(lambda x: abs(x)) - gru_history['val_loss'].map(lambda x: abs(x))).map(lambda x:abs(x))\n",
    "grubest_epoch = gru_history[gru_history['loss_diff']==gru_history['loss_diff'].min()]\n",
    "grubest_epoch = int(grubest_epoch.iloc[0]['epoch'])"
   ]
  },
  {
   "cell_type": "code",
   "execution_count": 231,
   "id": "ac95259e",
   "metadata": {},
   "outputs": [
    {
     "data": {
      "image/png": "[encoded data removed]",
      "text/plain": [
       "<Figure size 800x600 with 1 Axes>"
      ]
     },
     "metadata": {},
     "output_type": "display_data"
    }
   ],
   "source": [
    "# Check out our train loss and test loss over epochs.\n",
    "train_loss = gru.history['loss']\n",
    "test_loss = gru.history['val_loss']\n",
    "\n",
    "# Set figure size.\n",
    "plt.figure(figsize=(8, 6))\n",
    "\n",
    "# Generate line plot of training, testing loss over epochs.\n",
    "plt.plot(train_loss, label='Training Loss')\n",
    "plt.plot(test_loss, label='Testing Loss')\n",
    "plt.vlines(x=grubest_epoch, ymin=0,ymax=max(train_loss), colors='green', linestyles='dotted')\n",
    "\n",
    "# Set title\n",
    "plt.xlabel('Epoch')\n",
    "plt.ylabel('Loss')\n",
    "plt.title(f'The model is best fitted when epoch = {grubest_epoch}')\n",
    "plt.legend();"
   ]
  },
  {
   "cell_type": "code",
   "execution_count": 232,
   "id": "9c1c7f57",
   "metadata": {},
   "outputs": [
    {
     "name": "stdout",
     "output_type": "stream",
     "text": [
      "1/1 [==============================] - 0s 176ms/step\n"
     ]
    },
    {
     "data": {
      "image/png": "[encoded data removed]",
      "text/plain": [
       "<Figure size 800x500 with 1 Axes>"
      ]
     },
     "metadata": {},
     "output_type": "display_data"
    },
    {
     "name": "stdout",
     "output_type": "stream",
     "text": [
      "RMSE of LSTM model is: 787916.6205751632\n"
     ]
    }
   ],
   "source": [
    "# Demonstrate Predictions\n",
    "gru_opt = model_gru.fit(X_train_scaled, y_train, epochs=grubest_epoch, verbose=0, batch_size=64)\n",
    "preds_gru = model_gru.predict(X_test_scaled)\n",
    "\n",
    "# Plot data.\n",
    "plt.figure(figsize=(8,5))\n",
    "\n",
    "# Plot testing data.\n",
    "plt.plot(pd.DataFrame(y_test).index, pd.DataFrame(y_test), color = 'orange')\n",
    "\n",
    "# Plot predicted test values.\n",
    "plt.plot(pd.DataFrame(y_test).index, preds_gru, color = 'green')\n",
    "plt.legend(['Test Data','Predictions'])\n",
    "plt.title(label = 'LSTM Predictions', fontsize=16)\n",
    "plt.show();\n",
    "\n",
    "rmse_lstm = mean_squared_error(y_test, preds, squared=False)\n",
    "print (f'RMSE of LSTM model is: {rmse_lstm}')"
   ]
  },
  {
   "cell_type": "code",
   "execution_count": null,
   "id": "d28bf1a5",
   "metadata": {},
   "outputs": [],
   "source": []
  }
 ],
 "metadata": {
  "kernelspec": {
   "display_name": "Python 3",
   "language": "python",
   "name": "python3"
  },
  "language_info": {
   "codemirror_mode": {
    "name": "ipython",
    "version": 3
   },
   "file_extension": ".py",
   "mimetype": "text/x-python",
   "name": "python",
   "nbconvert_exporter": "python",
   "pygments_lexer": "ipython3",
   "version": "3.10.10"
  },
  "vscode": {
   "interpreter": {
    "hash": "e19db1e9da599290b8ff42b0f8e8323be965d18c8fa7c16db7240545f8fbedb0"
   }
  }
 },
 "nbformat": 4,
 "nbformat_minor": 5
}
