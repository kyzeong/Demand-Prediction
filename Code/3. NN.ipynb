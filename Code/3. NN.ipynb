{
 "cells": [
  {
   "cell_type": "code",
   "execution_count": 197,
   "id": "c919555a",
   "metadata": {},
   "outputs": [],
   "source": [
    "# df.resample('M').mean()"
   ]
  },
  {
   "attachments": {},
   "cell_type": "markdown",
   "id": "062770fe",
   "metadata": {},
   "source": [
    "# Data Dictionary"
   ]
  },
  {
   "attachments": {},
   "cell_type": "markdown",
   "id": "ad6b588a",
   "metadata": {},
   "source": [
    "|Feature|Type|Description|\n",
    "|---|---|---|\n",
    "|Product_Code|*string*|The product name encoded|\n",
    "|Warehouse|*string*|Warehouse ID|\n",
    "|Product_Category|*string*|Product category of each product|\n",
    "|Date|*string*|The date customer needs the product|\n",
    "|Order_Demand|*string*|Order quantity|"
   ]
  },
  {
   "cell_type": "code",
   "execution_count": 198,
   "id": "52f64c2b",
   "metadata": {},
   "outputs": [],
   "source": [
    "# Import libraries.\n",
    "import numpy as np\n",
    "import pandas as pd\n",
    "import matplotlib.pyplot as plt\n",
    "\n",
    "from numpy import array\n",
    "import tensorflow as tf\n",
    "from tensorflow.keras.models import Sequential\n",
    "from tensorflow.keras.layers import LSTM, GRU, Dense\n",
    "from tensorflow.keras.optimizers import Adam\n",
    "from tensorflow_addons.metrics import RSquare\n",
    "from tensorflow.keras.callbacks import EarlyStopping"
   ]
  },
  {
   "cell_type": "code",
   "execution_count": 199,
   "id": "59efff99",
   "metadata": {},
   "outputs": [
    {
     "data": {
      "text/plain": [
       "(924272, 5)"
      ]
     },
     "execution_count": 199,
     "metadata": {},
     "output_type": "execute_result"
    }
   ],
   "source": [
    "# Read csv file and display shape.\n",
    "df = pd.read_csv('../Data_Historical/df2.csv').iloc[:,1:]\n",
    "df.shape"
   ]
  },
  {
   "cell_type": "code",
   "execution_count": 200,
   "id": "5487f4aa",
   "metadata": {},
   "outputs": [
    {
     "data": {
      "text/html": [
       "<div>\n",
       "<style scoped>\n",
       "    .dataframe tbody tr th:only-of-type {\n",
       "        vertical-align: middle;\n",
       "    }\n",
       "\n",
       "    .dataframe tbody tr th {\n",
       "        vertical-align: top;\n",
       "    }\n",
       "\n",
       "    .dataframe thead th {\n",
       "        text-align: right;\n",
       "    }\n",
       "</style>\n",
       "<table border=\"1\" class=\"dataframe\">\n",
       "  <thead>\n",
       "    <tr style=\"text-align: right;\">\n",
       "      <th></th>\n",
       "      <th>Product_Code</th>\n",
       "      <th>Warehouse</th>\n",
       "      <th>Product_Category</th>\n",
       "      <th>Date</th>\n",
       "      <th>Order_Demand</th>\n",
       "    </tr>\n",
       "  </thead>\n",
       "  <tbody>\n",
       "    <tr>\n",
       "      <th>0</th>\n",
       "      <td>Product_0965</td>\n",
       "      <td>Whse_A</td>\n",
       "      <td>Category_006</td>\n",
       "      <td>2011-01-08</td>\n",
       "      <td>2</td>\n",
       "    </tr>\n",
       "    <tr>\n",
       "      <th>1</th>\n",
       "      <td>Product_1724</td>\n",
       "      <td>Whse_A</td>\n",
       "      <td>Category_003</td>\n",
       "      <td>2011-05-31</td>\n",
       "      <td>108</td>\n",
       "    </tr>\n",
       "    <tr>\n",
       "      <th>2</th>\n",
       "      <td>Product_1521</td>\n",
       "      <td>Whse_S</td>\n",
       "      <td>Category_019</td>\n",
       "      <td>2011-06-24</td>\n",
       "      <td>85000</td>\n",
       "    </tr>\n",
       "    <tr>\n",
       "      <th>3</th>\n",
       "      <td>Product_1521</td>\n",
       "      <td>Whse_S</td>\n",
       "      <td>Category_019</td>\n",
       "      <td>2011-06-24</td>\n",
       "      <td>7000</td>\n",
       "    </tr>\n",
       "    <tr>\n",
       "      <th>4</th>\n",
       "      <td>Product_1507</td>\n",
       "      <td>Whse_C</td>\n",
       "      <td>Category_019</td>\n",
       "      <td>2011-09-02</td>\n",
       "      <td>1250</td>\n",
       "    </tr>\n",
       "  </tbody>\n",
       "</table>\n",
       "</div>"
      ],
      "text/plain": [
       "   Product_Code Warehouse Product_Category        Date  Order_Demand\n",
       "0  Product_0965    Whse_A     Category_006  2011-01-08             2\n",
       "1  Product_1724    Whse_A     Category_003  2011-05-31           108\n",
       "2  Product_1521    Whse_S     Category_019  2011-06-24         85000\n",
       "3  Product_1521    Whse_S     Category_019  2011-06-24          7000\n",
       "4  Product_1507    Whse_C     Category_019  2011-09-02          1250"
      ]
     },
     "execution_count": 200,
     "metadata": {},
     "output_type": "execute_result"
    }
   ],
   "source": [
    "df.head()"
   ]
  },
  {
   "cell_type": "markdown",
   "id": "5b73f7dd",
   "metadata": {},
   "source": [
    "df_init = df[df['Product_Code']==code]\n",
    "    df_init['Date'] = pd.to_datetime(df_init['Date'])\n",
    "    df_init = df_init.set_index('Date')\n",
    "    df_init = pd.DataFrame((df_init['Order_Demand']).resample('W').sum())\n",
    "    df_init.rename(columns={'Order_Demand':code},inplace=True)\n",
    "    all_cat_019 = pd.concat([all_cat_019,df_init],axis=1)"
   ]
  },
  {
   "cell_type": "code",
   "execution_count": 201,
   "id": "00da21e9",
   "metadata": {},
   "outputs": [],
   "source": [
    "tf.random.set_seed(7)"
   ]
  },
  {
   "cell_type": "code",
   "execution_count": 202,
   "id": "afb61ab0",
   "metadata": {},
   "outputs": [
    {
     "name": "stderr",
     "output_type": "stream",
     "text": [
      "C:\\Users\\Zeonice\\AppData\\Local\\Temp\\ipykernel_14980\\1070879320.py:5: SettingWithCopyWarning: \n",
      "A value is trying to be set on a copy of a slice from a DataFrame.\n",
      "Try using .loc[row_indexer,col_indexer] = value instead\n",
      "\n",
      "See the caveats in the documentation: https://pandas.pydata.org/pandas-docs/stable/user_guide/indexing.html#returning-a-view-versus-a-copy\n",
      "  df_1359['Date'] = pd.to_datetime(df_1359['Date'])\n"
     ]
    }
   ],
   "source": [
    "# Queries all rows of Product 1359.\n",
    "df_1359 = df[df['Product_Code']=='Product_1359']\n",
    "\n",
    "# Convert Date to datetime format.\n",
    "df_1359['Date'] = pd.to_datetime(df_1359['Date'])\n",
    "\n",
    "# Set Date as index.\n",
    "df_1359 = df_1359.set_index('Date')\n",
    "\n",
    "# Resample Order Demand of Product 1359 to weekly sales in the multiple of 1000.\n",
    "prod_1359 = pd.DataFrame((df_1359['Order_Demand']/1000).resample('W').sum())\n",
    "prod_1359.rename(columns={'Order_Demand':'demand'}, inplace=True)"
   ]
  },
  {
   "cell_type": "code",
   "execution_count": 203,
   "id": "41d5a4b1",
   "metadata": {},
   "outputs": [],
   "source": [
    "# split a univariate sequence\n",
    "def split_sequence(sequence, n_steps):\n",
    " X, y = list(), list()\n",
    " for i in range(len(sequence)):\n",
    "    # find the end of this pattern\n",
    "    end_ix = i + n_steps\n",
    "    \n",
    "    # check if we are beyond the sequence\n",
    "    if end_ix > len(sequence)-1:\n",
    "        break\n",
    "    \n",
    "    # gather input and output parts of the pattern\n",
    "    seq_x, seq_y = sequence[i:end_ix], sequence[end_ix]\n",
    "    X.append(seq_x)\n",
    "    y.append(seq_y)\n",
    " return array(X), array(y)"
   ]
  },
  {
   "cell_type": "code",
   "execution_count": 213,
   "id": "285f0e4b",
   "metadata": {},
   "outputs": [],
   "source": [
    "# define input sequence\n",
    "raw_seq = prod_1359['demand']\n",
    "\n",
    "# choose a number of time steps\n",
    "n_steps = 4\n",
    "\n",
    "# split into samples\n",
    "X, y = split_sequence(raw_seq, n_steps)\n",
    "\n",
    "# reshape from [samples, timesteps] into [samples, timesteps, features]\n",
    "n_features = 1\n",
    "X = X.reshape((X.shape[0], X.shape[1], n_features))"
   ]
  },
  {
   "cell_type": "code",
   "execution_count": 214,
   "id": "c7a3db8f",
   "metadata": {},
   "outputs": [],
   "source": [
    "X_train = X[0:207]\n",
    "X_test = X[207:]\n",
    "y_train = y[0:207]\n",
    "y_test = y[207:]"
   ]
  },
  {
   "cell_type": "code",
   "execution_count": 206,
   "id": "1743b0df",
   "metadata": {},
   "outputs": [
    {
     "data": {
      "text/plain": [
       "Date\n",
       "2016-12-18    1319.0\n",
       "2016-12-25    1006.0\n",
       "2017-01-01     403.0\n",
       "2017-01-08     100.0\n",
       "Freq: W-SUN, Name: demand, dtype: float64"
      ]
     },
     "execution_count": 206,
     "metadata": {},
     "output_type": "execute_result"
    }
   ],
   "source": [
    "prod_1359['demand'].iloc[258:262]"
   ]
  },
  {
   "cell_type": "code",
   "execution_count": 250,
   "id": "4004f59b",
   "metadata": {},
   "outputs": [],
   "source": [
    "# define model\n",
    "model = Sequential()\n",
    "model.add(LSTM(50, activation='relu', return_sequences=True, input_shape=(n_steps, n_features)))\n",
    "model.add(LSTM(50, activation='relu'))\n",
    "model.add(Dense(1))\n",
    "model.compile(optimizer=Adam(learning_rate=.0005), loss='mse', metrics=['mape'])\n",
    "\n",
    "es = EarlyStopping(patience = 30)\n",
    "# fit model\n",
    "lstm = model.fit(X_train, y_train, epochs=300, verbose=0, validation_data=(X_test, y_test), callbacks = [es])"
   ]
  },
  {
   "cell_type": "code",
   "execution_count": 251,
   "id": "80157f78",
   "metadata": {},
   "outputs": [
    {
     "data": {
      "text/html": [
       "<div>\n",
       "<style scoped>\n",
       "    .dataframe tbody tr th:only-of-type {\n",
       "        vertical-align: middle;\n",
       "    }\n",
       "\n",
       "    .dataframe tbody tr th {\n",
       "        vertical-align: top;\n",
       "    }\n",
       "\n",
       "    .dataframe thead th {\n",
       "        text-align: right;\n",
       "    }\n",
       "</style>\n",
       "<table border=\"1\" class=\"dataframe\">\n",
       "  <thead>\n",
       "    <tr style=\"text-align: right;\">\n",
       "      <th></th>\n",
       "      <th>loss</th>\n",
       "      <th>mape</th>\n",
       "      <th>val_loss</th>\n",
       "      <th>val_mape</th>\n",
       "    </tr>\n",
       "  </thead>\n",
       "  <tbody>\n",
       "    <tr>\n",
       "      <th>0</th>\n",
       "      <td>2.705388e+06</td>\n",
       "      <td>180.658173</td>\n",
       "      <td>2.050350e+06</td>\n",
       "      <td>95.745995</td>\n",
       "    </tr>\n",
       "    <tr>\n",
       "      <th>1</th>\n",
       "      <td>2.558977e+06</td>\n",
       "      <td>193.315353</td>\n",
       "      <td>1.940129e+06</td>\n",
       "      <td>91.952629</td>\n",
       "    </tr>\n",
       "    <tr>\n",
       "      <th>2</th>\n",
       "      <td>2.447329e+06</td>\n",
       "      <td>179.834961</td>\n",
       "      <td>1.827230e+06</td>\n",
       "      <td>88.266968</td>\n",
       "    </tr>\n",
       "    <tr>\n",
       "      <th>3</th>\n",
       "      <td>2.281094e+06</td>\n",
       "      <td>223.192810</td>\n",
       "      <td>1.654495e+06</td>\n",
       "      <td>79.989967</td>\n",
       "    </tr>\n",
       "    <tr>\n",
       "      <th>4</th>\n",
       "      <td>2.105788e+06</td>\n",
       "      <td>390.726746</td>\n",
       "      <td>1.511555e+06</td>\n",
       "      <td>75.181175</td>\n",
       "    </tr>\n",
       "    <tr>\n",
       "      <th>...</th>\n",
       "      <td>...</td>\n",
       "      <td>...</td>\n",
       "      <td>...</td>\n",
       "      <td>...</td>\n",
       "    </tr>\n",
       "    <tr>\n",
       "      <th>56</th>\n",
       "      <td>5.583057e+05</td>\n",
       "      <td>2716.936523</td>\n",
       "      <td>4.364647e+05</td>\n",
       "      <td>67.981171</td>\n",
       "    </tr>\n",
       "    <tr>\n",
       "      <th>57</th>\n",
       "      <td>5.158914e+05</td>\n",
       "      <td>2363.171143</td>\n",
       "      <td>4.376738e+05</td>\n",
       "      <td>61.810509</td>\n",
       "    </tr>\n",
       "    <tr>\n",
       "      <th>58</th>\n",
       "      <td>5.030589e+05</td>\n",
       "      <td>2277.526367</td>\n",
       "      <td>4.281664e+05</td>\n",
       "      <td>61.901005</td>\n",
       "    </tr>\n",
       "    <tr>\n",
       "      <th>59</th>\n",
       "      <td>5.019052e+05</td>\n",
       "      <td>2208.399414</td>\n",
       "      <td>4.095113e+05</td>\n",
       "      <td>63.126667</td>\n",
       "    </tr>\n",
       "    <tr>\n",
       "      <th>60</th>\n",
       "      <td>5.215605e+05</td>\n",
       "      <td>2275.018799</td>\n",
       "      <td>4.217958e+05</td>\n",
       "      <td>65.208168</td>\n",
       "    </tr>\n",
       "  </tbody>\n",
       "</table>\n",
       "<p>61 rows × 4 columns</p>\n",
       "</div>"
      ],
      "text/plain": [
       "            loss         mape      val_loss   val_mape\n",
       "0   2.705388e+06   180.658173  2.050350e+06  95.745995\n",
       "1   2.558977e+06   193.315353  1.940129e+06  91.952629\n",
       "2   2.447329e+06   179.834961  1.827230e+06  88.266968\n",
       "3   2.281094e+06   223.192810  1.654495e+06  79.989967\n",
       "4   2.105788e+06   390.726746  1.511555e+06  75.181175\n",
       "..           ...          ...           ...        ...\n",
       "56  5.583057e+05  2716.936523  4.364647e+05  67.981171\n",
       "57  5.158914e+05  2363.171143  4.376738e+05  61.810509\n",
       "58  5.030589e+05  2277.526367  4.281664e+05  61.901005\n",
       "59  5.019052e+05  2208.399414  4.095113e+05  63.126667\n",
       "60  5.215605e+05  2275.018799  4.217958e+05  65.208168\n",
       "\n",
       "[61 rows x 4 columns]"
      ]
     },
     "execution_count": 251,
     "metadata": {},
     "output_type": "execute_result"
    }
   ],
   "source": [
    "lala =pd.DataFrame(lstm.history)\n",
    "lala"
   ]
  },
  {
   "cell_type": "code",
   "execution_count": 252,
   "id": "493a7583",
   "metadata": {},
   "outputs": [
    {
     "data": {
      "image/png": "[encoded data removed]",
      "text/plain": [
       "<Figure size 800x600 with 1 Axes>"
      ]
     },
     "metadata": {},
     "output_type": "display_data"
    }
   ],
   "source": [
    "# Check out our train loss and test loss over epochs.\n",
    "train_loss = lstm.history['mape']\n",
    "test_loss = lstm.history['val_mape']\n",
    "\n",
    "# Set figure size.\n",
    "plt.figure(figsize=(8, 6))\n",
    "\n",
    "# Generate line plot of training, testing loss over epochs.\n",
    "plt.plot(train_loss, label='Training Loss')\n",
    "plt.plot(test_loss, label='Testing Loss')\n",
    "\n",
    "# Set title\n",
    "plt.xlabel('Epoch')\n",
    "plt.ylabel('Loss')\n",
    "\n",
    "plt.legend();"
   ]
  },
  {
   "cell_type": "code",
   "execution_count": 186,
   "id": "97d5adc0",
   "metadata": {},
   "outputs": [
    {
     "data": {
      "text/plain": [
       "100.0"
      ]
     },
     "execution_count": 186,
     "metadata": {},
     "output_type": "execute_result"
    }
   ],
   "source": [
    "y[258]"
   ]
  },
  {
   "cell_type": "code",
   "execution_count": 189,
   "id": "27b461b8",
   "metadata": {},
   "outputs": [
    {
     "data": {
      "text/plain": [
       "100.0"
      ]
     },
     "execution_count": 189,
     "metadata": {},
     "output_type": "execute_result"
    }
   ],
   "source": [
    "prod_1359['demand'].iloc[261]"
   ]
  },
  {
   "cell_type": "code",
   "execution_count": 242,
   "id": "6ff67a8f",
   "metadata": {},
   "outputs": [
    {
     "name": "stdout",
     "output_type": "stream",
     "text": [
      "[[1217.2734]\n",
      " [1114.6342]\n",
      " [1175.1094]\n",
      " [1016.1787]]\n"
     ]
    }
   ],
   "source": [
    "# demonstrate prediction\n",
    "x_input, ynull = split_sequence(prod_1359['demand'].iloc[254:262],n_steps)\n",
    "x_input = x_input.reshape((x_input.shape[0], x_input.shape[1], n_features))\n",
    "yhat = model.predict(x_input, verbose=0)\n",
    "print(yhat)"
   ]
  },
  {
   "cell_type": "code",
   "execution_count": null,
   "id": "b6ffe2f1",
   "metadata": {},
   "outputs": [],
   "source": []
  },
  {
   "cell_type": "code",
   "execution_count": 226,
   "id": "7e5f43d3",
   "metadata": {},
   "outputs": [
    {
     "data": {
      "text/plain": [
       "array([[[1290.],\n",
       "        [ 902.],\n",
       "        [1439.],\n",
       "        [1190.]],\n",
       "\n",
       "       [[ 902.],\n",
       "        [1439.],\n",
       "        [1190.],\n",
       "        [1319.]],\n",
       "\n",
       "       [[1439.],\n",
       "        [1190.],\n",
       "        [1319.],\n",
       "        [1006.]],\n",
       "\n",
       "       [[1190.],\n",
       "        [1319.],\n",
       "        [1006.],\n",
       "        [ 403.]]])"
      ]
     },
     "execution_count": 226,
     "metadata": {},
     "output_type": "execute_result"
    }
   ],
   "source": [
    "x_input"
   ]
  },
  {
   "cell_type": "code",
   "execution_count": 220,
   "id": "c7d75906",
   "metadata": {},
   "outputs": [
    {
     "data": {
      "text/plain": [
       "array([1593., 1878., 1711., 1480., 1160.,  992., 2317., 1135., 2031.,\n",
       "        880.,  879., 2378., 1008.,  797.,  832.,  338., 2008.,  723.,\n",
       "       1891., 1352., 2595., 1224., 1425., 1753., 1987.,  811., 1244.,\n",
       "       1239., 1705.,  389., 1326., 2059., 1300., 1343., 1233.,  813.,\n",
       "       1795., 1005., 2803., 1368.,  900., 2117., 2219., 1290.,  902.,\n",
       "       1439., 1190., 1319., 1006.,  403.,  100.])"
      ]
     },
     "execution_count": 220,
     "metadata": {},
     "output_type": "execute_result"
    }
   ],
   "source": [
    "y_test"
   ]
  },
  {
   "cell_type": "code",
   "execution_count": 81,
   "id": "9b93730e",
   "metadata": {},
   "outputs": [],
   "source": [
    " # evaluate the model\n",
    " scores = model.evaluate(X, y, verbose=0)"
   ]
  },
  {
   "cell_type": "code",
   "execution_count": 82,
   "id": "0b8bbc97",
   "metadata": {},
   "outputs": [
    {
     "data": {
      "text/plain": [
       "505059.28125"
      ]
     },
     "execution_count": 82,
     "metadata": {},
     "output_type": "execute_result"
    }
   ],
   "source": [
    "scores"
   ]
  },
  {
   "cell_type": "code",
   "execution_count": 86,
   "id": "193d7f7c",
   "metadata": {},
   "outputs": [
    {
     "data": {
      "text/plain": [
       "(['loss'], 505059.28125)"
      ]
     },
     "execution_count": 86,
     "metadata": {},
     "output_type": "execute_result"
    }
   ],
   "source": [
    "model.metrics_names, scores"
   ]
  },
  {
   "attachments": {},
   "cell_type": "markdown",
   "id": "e74c1382",
   "metadata": {},
   "source": [
    "# GRU"
   ]
  },
  {
   "cell_type": "code",
   "execution_count": 79,
   "id": "15f46be9",
   "metadata": {},
   "outputs": [
    {
     "data": {
      "text/plain": [
       "<keras.callbacks.History at 0x219f672af20>"
      ]
     },
     "execution_count": 79,
     "metadata": {},
     "output_type": "execute_result"
    }
   ],
   "source": [
    "# define model GRU\n",
    "model_gru = Sequential()\n",
    "model_gru.add(GRU(50, activation='relu', return_sequences=True, input_shape=(n_steps, n_features)))\n",
    "model_gru.add(GRU(50, activation='relu'))\n",
    "model_gru.add(Dense(1))\n",
    "model_gru.compile(optimizer='adam', loss='mse')\n",
    "# fit model\n",
    "model_gru.fit(X, y, epochs=300, verbose=0)"
   ]
  },
  {
   "cell_type": "code",
   "execution_count": 80,
   "id": "f9b606a7",
   "metadata": {},
   "outputs": [
    {
     "name": "stdout",
     "output_type": "stream",
     "text": [
      "[[1087.1621 ]\n",
      " [1114.6328 ]\n",
      " [1156.3435 ]\n",
      " [1003.5247 ]\n",
      " [ 753.49084]]\n"
     ]
    }
   ],
   "source": [
    "# demonstrate prediction\n",
    "x_input, ynull = split_sequence(prod_1359['demand'].iloc[254:262],n_steps)\n",
    "x_input = x_input.reshape((x_input.shape[0], x_input.shape[1], n_features))\n",
    "yhat_gru = model_gru.predict(x_input, verbose=0)\n",
    "print(yhat_gru)"
   ]
  },
  {
   "cell_type": "code",
   "execution_count": null,
   "id": "d28bf1a5",
   "metadata": {},
   "outputs": [],
   "source": []
  }
 ],
 "metadata": {
  "kernelspec": {
   "display_name": "Python 3",
   "language": "python",
   "name": "python3"
  },
  "language_info": {
   "codemirror_mode": {
    "name": "ipython",
    "version": 3
   },
   "file_extension": ".py",
   "mimetype": "text/x-python",
   "name": "python",
   "nbconvert_exporter": "python",
   "pygments_lexer": "ipython3",
   "version": "3.10.10"
  },
  "vscode": {
   "interpreter": {
    "hash": "e19db1e9da599290b8ff42b0f8e8323be965d18c8fa7c16db7240545f8fbedb0"
   }
  }
 },
 "nbformat": 4,
 "nbformat_minor": 5
}
