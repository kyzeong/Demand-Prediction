{
 "cells": [
  {
   "attachments": {},
   "cell_type": "markdown",
   "id": "a1a747f8",
   "metadata": {},
   "source": [
    "# Table of Content\n",
    "\n",
    "1. [Data_Dictionary](#data-dictionary)\n",
    "2. [Data_Preparation](#data-preparation)\n",
    "3. [LSTM](#lstm)"
   ]
  },
  {
   "attachments": {},
   "cell_type": "markdown",
   "id": "062770fe",
   "metadata": {},
   "source": [
    "# Data Dictionary"
   ]
  },
  {
   "attachments": {},
   "cell_type": "markdown",
   "id": "ad6b588a",
   "metadata": {},
   "source": [
    "|Feature|Type|Description|\n",
    "|---|---|---|\n",
    "|Product_Code|*string*|The product name encoded|\n",
    "|Warehouse|*string*|Warehouse ID|\n",
    "|Product_Category|*string*|Product category of each product|\n",
    "|Date|*string*|The date customer needs the product|\n",
    "|Order_Demand|*string*|Order quantity|"
   ]
  },
  {
   "cell_type": "code",
   "execution_count": 1,
   "id": "52f64c2b",
   "metadata": {},
   "outputs": [],
   "source": [
    "# Import libraries.\n",
    "import numpy as np\n",
    "import pandas as pd\n",
    "import matplotlib.pyplot as plt\n",
    "import tensorflow as tf\n",
    "from numpy.random import seed\n",
    "from numpy import array\n",
    "from sklearn.metrics import mean_squared_error\n",
    "from sklearn.preprocessing import MinMaxScaler\n",
    "from sklearn.preprocessing import StandardScaler\n",
    "from tensorflow.keras.models import Sequential\n",
    "from tensorflow.keras.layers import LSTM, GRU, Dense\n",
    "from tensorflow.keras.optimizers import Adam\n",
    "from tensorflow_addons.metrics import RSquare\n",
    "from tensorflow.keras.callbacks import EarlyStopping"
   ]
  },
  {
   "cell_type": "code",
   "execution_count": 2,
   "id": "59efff99",
   "metadata": {},
   "outputs": [
    {
     "data": {
      "text/plain": [
       "(924272, 5)"
      ]
     },
     "execution_count": 2,
     "metadata": {},
     "output_type": "execute_result"
    }
   ],
   "source": [
    "# Read csv file and display shape.\n",
    "df = pd.read_csv('../Data_Historical/df2.csv').iloc[:,1:]\n",
    "df.shape"
   ]
  },
  {
   "cell_type": "code",
   "execution_count": 3,
   "id": "5487f4aa",
   "metadata": {},
   "outputs": [
    {
     "data": {
      "text/html": [
       "<div>\n",
       "<style scoped>\n",
       "    .dataframe tbody tr th:only-of-type {\n",
       "        vertical-align: middle;\n",
       "    }\n",
       "\n",
       "    .dataframe tbody tr th {\n",
       "        vertical-align: top;\n",
       "    }\n",
       "\n",
       "    .dataframe thead th {\n",
       "        text-align: right;\n",
       "    }\n",
       "</style>\n",
       "<table border=\"1\" class=\"dataframe\">\n",
       "  <thead>\n",
       "    <tr style=\"text-align: right;\">\n",
       "      <th></th>\n",
       "      <th>Product_Code</th>\n",
       "      <th>Warehouse</th>\n",
       "      <th>Product_Category</th>\n",
       "      <th>Date</th>\n",
       "      <th>Order_Demand</th>\n",
       "    </tr>\n",
       "  </thead>\n",
       "  <tbody>\n",
       "    <tr>\n",
       "      <th>0</th>\n",
       "      <td>Product_0965</td>\n",
       "      <td>Whse_A</td>\n",
       "      <td>Category_006</td>\n",
       "      <td>2011-01-08</td>\n",
       "      <td>2</td>\n",
       "    </tr>\n",
       "    <tr>\n",
       "      <th>1</th>\n",
       "      <td>Product_1724</td>\n",
       "      <td>Whse_A</td>\n",
       "      <td>Category_003</td>\n",
       "      <td>2011-05-31</td>\n",
       "      <td>108</td>\n",
       "    </tr>\n",
       "    <tr>\n",
       "      <th>2</th>\n",
       "      <td>Product_1521</td>\n",
       "      <td>Whse_S</td>\n",
       "      <td>Category_019</td>\n",
       "      <td>2011-06-24</td>\n",
       "      <td>85000</td>\n",
       "    </tr>\n",
       "    <tr>\n",
       "      <th>3</th>\n",
       "      <td>Product_1521</td>\n",
       "      <td>Whse_S</td>\n",
       "      <td>Category_019</td>\n",
       "      <td>2011-06-24</td>\n",
       "      <td>7000</td>\n",
       "    </tr>\n",
       "    <tr>\n",
       "      <th>4</th>\n",
       "      <td>Product_1507</td>\n",
       "      <td>Whse_C</td>\n",
       "      <td>Category_019</td>\n",
       "      <td>2011-09-02</td>\n",
       "      <td>1250</td>\n",
       "    </tr>\n",
       "  </tbody>\n",
       "</table>\n",
       "</div>"
      ],
      "text/plain": [
       "   Product_Code Warehouse Product_Category        Date  Order_Demand\n",
       "0  Product_0965    Whse_A     Category_006  2011-01-08             2\n",
       "1  Product_1724    Whse_A     Category_003  2011-05-31           108\n",
       "2  Product_1521    Whse_S     Category_019  2011-06-24         85000\n",
       "3  Product_1521    Whse_S     Category_019  2011-06-24          7000\n",
       "4  Product_1507    Whse_C     Category_019  2011-09-02          1250"
      ]
     },
     "execution_count": 3,
     "metadata": {},
     "output_type": "execute_result"
    }
   ],
   "source": [
    "df.head()"
   ]
  },
  {
   "attachments": {},
   "cell_type": "markdown",
   "id": "ad6a0a06",
   "metadata": {},
   "source": [
    "# Data Preparation"
   ]
  },
  {
   "cell_type": "code",
   "execution_count": 4,
   "id": "00da21e9",
   "metadata": {},
   "outputs": [],
   "source": [
    "# Set a seed.\n",
    "tf.random.set_seed(12)"
   ]
  },
  {
   "cell_type": "code",
   "execution_count": 5,
   "id": "13a6bc5a",
   "metadata": {},
   "outputs": [],
   "source": [
    "# Function to clean and resample order demand.\n",
    "def get_product(data,product_code):\n",
    "    df_init = data[data['Product_Code']==product_code]\n",
    "    df_init['Date'] = pd.to_datetime(df_init['Date'])\n",
    "    df_init = df_init.set_index('Date')\n",
    "    df_out = pd.DataFrame(df_init['Order_Demand'].resample('W').sum())\n",
    "    df_out.rename(columns={'Order_Demand':'demand'+'_'+product_code[-4:]}, inplace=True)\n",
    "    return df_out\n",
    "    "
   ]
  },
  {
   "cell_type": "code",
   "execution_count": 6,
   "id": "8132b80b",
   "metadata": {},
   "outputs": [],
   "source": [
    "# split a univariate sequence\n",
    "def split_sequence(sequence, n_steps):\n",
    " X, y = list(), list()\n",
    " \n",
    " for i in range(len(sequence)):\n",
    "    # find the end of this pattern\n",
    "    end_ix = i + n_steps\n",
    "    \n",
    "    # check if we are beyond the sequence\n",
    "    if end_ix > len(sequence)-1:\n",
    "        break\n",
    "    \n",
    "    # gather input and output parts of the pattern\n",
    "    seq_x, seq_y = sequence[i:end_ix], sequence[end_ix]\n",
    "    X.append(seq_x)\n",
    "    y.append(seq_y)\n",
    " return array(X), array(y)"
   ]
  },
  {
   "cell_type": "code",
   "execution_count": 7,
   "id": "ba809041",
   "metadata": {},
   "outputs": [],
   "source": [
    "# Function to apply standard scaling to input.\n",
    "def scale(X_train, X_test):\n",
    " # fit scaler\n",
    " scaler = StandardScaler()\n",
    " # Fit & transform train\n",
    " X_train = scaler.fit_transform(X_train.reshape(-1, X_train.shape[-1])).reshape(X_train.shape)\n",
    " # Transform test\n",
    " X_test = scaler.transform(X_test.reshape(-1, X_test.shape[-1])).reshape(X_test.shape)\n",
    " return scaler, X_train, X_test"
   ]
  },
  {
   "cell_type": "code",
   "execution_count": 8,
   "id": "1b16e965",
   "metadata": {},
   "outputs": [],
   "source": [
    "# Function to find the best epoch.\n",
    "def find_best_epoch(history):\n",
    "    model_history = pd.DataFrame(history).reset_index()\n",
    "    model_history.rename(columns = {'index':'epoch'}, inplace=True)\n",
    "    model_history['loss_diff'] = (model_history['loss'].map(lambda x: abs(x)) - model_history['val_loss'].map(lambda x: abs(x))).map(lambda x:abs(x))\n",
    "    epoch = model_history[model_history['loss_diff']==model_history['loss_diff'].min()]\n",
    "    epoch = int(epoch.iloc[0]['epoch'])\n",
    "    return epoch"
   ]
  },
  {
   "cell_type": "code",
   "execution_count": 9,
   "id": "25366697",
   "metadata": {},
   "outputs": [
    {
     "name": "stderr",
     "output_type": "stream",
     "text": [
      "C:\\Users\\Zeonice\\AppData\\Local\\Temp\\ipykernel_10008\\2577529180.py:4: SettingWithCopyWarning: \n",
      "A value is trying to be set on a copy of a slice from a DataFrame.\n",
      "Try using .loc[row_indexer,col_indexer] = value instead\n",
      "\n",
      "See the caveats in the documentation: https://pandas.pydata.org/pandas-docs/stable/user_guide/indexing.html#returning-a-view-versus-a-copy\n",
      "  df_init['Date'] = pd.to_datetime(df_init['Date'])\n"
     ]
    },
    {
     "data": {
      "text/html": [
       "<div>\n",
       "<style scoped>\n",
       "    .dataframe tbody tr th:only-of-type {\n",
       "        vertical-align: middle;\n",
       "    }\n",
       "\n",
       "    .dataframe tbody tr th {\n",
       "        vertical-align: top;\n",
       "    }\n",
       "\n",
       "    .dataframe thead th {\n",
       "        text-align: right;\n",
       "    }\n",
       "</style>\n",
       "<table border=\"1\" class=\"dataframe\">\n",
       "  <thead>\n",
       "    <tr style=\"text-align: right;\">\n",
       "      <th></th>\n",
       "      <th>demand_1359</th>\n",
       "    </tr>\n",
       "    <tr>\n",
       "      <th>Date</th>\n",
       "      <th></th>\n",
       "    </tr>\n",
       "  </thead>\n",
       "  <tbody>\n",
       "    <tr>\n",
       "      <th>2012-01-08</th>\n",
       "      <td>1226000</td>\n",
       "    </tr>\n",
       "    <tr>\n",
       "      <th>2012-01-15</th>\n",
       "      <td>1279000</td>\n",
       "    </tr>\n",
       "    <tr>\n",
       "      <th>2012-01-22</th>\n",
       "      <td>1401000</td>\n",
       "    </tr>\n",
       "    <tr>\n",
       "      <th>2012-01-29</th>\n",
       "      <td>1964000</td>\n",
       "    </tr>\n",
       "    <tr>\n",
       "      <th>2012-02-05</th>\n",
       "      <td>2591000</td>\n",
       "    </tr>\n",
       "  </tbody>\n",
       "</table>\n",
       "</div>"
      ],
      "text/plain": [
       "            demand_1359\n",
       "Date                   \n",
       "2012-01-08      1226000\n",
       "2012-01-15      1279000\n",
       "2012-01-22      1401000\n",
       "2012-01-29      1964000\n",
       "2012-02-05      2591000"
      ]
     },
     "execution_count": 9,
     "metadata": {},
     "output_type": "execute_result"
    }
   ],
   "source": [
    "# Create dataframe of Product 1359.\n",
    "prod_1359 = get_product(df, 'Product_1359')\n",
    "prod_1359.head()"
   ]
  },
  {
   "cell_type": "code",
   "execution_count": 10,
   "id": "41d5a4b1",
   "metadata": {},
   "outputs": [],
   "source": [
    "# define input sequence\n",
    "raw_seq = prod_1359['demand_1359']\n",
    "\n",
    "# choose a number of time steps\n",
    "n_steps = 1\n",
    "\n",
    "# split into samples\n",
    "X, y = split_sequence(raw_seq, n_steps)\n",
    "\n",
    "# reshape from [samples, timesteps] into [samples, timesteps, features]\n",
    "n_features = 1\n",
    "X = X.reshape((X.shape[0], X.shape[1], n_features))"
   ]
  },
  {
   "cell_type": "code",
   "execution_count": 11,
   "id": "9d2e3000",
   "metadata": {},
   "outputs": [
    {
     "data": {
      "text/plain": [
       "(261, 1, 1)"
      ]
     },
     "execution_count": 11,
     "metadata": {},
     "output_type": "execute_result"
    }
   ],
   "source": [
    "X.shape"
   ]
  },
  {
   "cell_type": "code",
   "execution_count": 12,
   "id": "c7a3db8f",
   "metadata": {},
   "outputs": [],
   "source": [
    "# Train test split.\n",
    "X_train = X[0:-12]\n",
    "X_test = X[-12:]\n",
    "y_train = y[0:-12]\n",
    "y_test = y[-12:]\n",
    "\n",
    "# Standard scale input.\n",
    "scaler, X_train_scaled, X_test_scaled = scale(X_train, X_test)"
   ]
  },
  {
   "attachments": {},
   "cell_type": "markdown",
   "id": "60dd493b",
   "metadata": {},
   "source": [
    "# LSTM"
   ]
  },
  {
   "cell_type": "code",
   "execution_count": 15,
   "id": "f8bffafe",
   "metadata": {},
   "outputs": [
    {
     "name": "stdout",
     "output_type": "stream",
     "text": [
      "999\n",
      "1/1 [==============================] - 0s 330ms/step\n",
      "n1: 8, n2: 8, rmse: 593078.3166882666\n",
      "999\n",
      "1/1 [==============================] - 0s 290ms/step\n",
      "n1: 8, n2: 16, rmse: 556946.4435935292\n",
      "999\n",
      "1/1 [==============================] - 0s 308ms/step\n",
      "n1: 8, n2: 32, rmse: 840948.0397191496\n",
      "999\n",
      "1/1 [==============================] - 0s 294ms/step\n",
      "n1: 8, n2: 64, rmse: 758481.4690713059\n",
      "999\n",
      "WARNING:tensorflow:5 out of the last 5 calls to <function Model.make_predict_function.<locals>.predict_function at 0x000001783CBBC280> triggered tf.function retracing. Tracing is expensive and the excessive number of tracings could be due to (1) creating @tf.function repeatedly in a loop, (2) passing tensors with different shapes, (3) passing Python objects instead of tensors. For (1), please define your @tf.function outside of the loop. For (2), @tf.function has reduce_retracing=True option that can avoid unnecessary retracing. For (3), please refer to https://www.tensorflow.org/guide/function#controlling_retracing and https://www.tensorflow.org/api_docs/python/tf/function for  more details.\n",
      "1/1 [==============================] - 0s 297ms/step\n",
      "n1: 8, n2: 128, rmse: 1020139.7268684014\n",
      "999\n",
      "WARNING:tensorflow:6 out of the last 6 calls to <function Model.make_predict_function.<locals>.predict_function at 0x000001782F45EB00> triggered tf.function retracing. Tracing is expensive and the excessive number of tracings could be due to (1) creating @tf.function repeatedly in a loop, (2) passing tensors with different shapes, (3) passing Python objects instead of tensors. For (1), please define your @tf.function outside of the loop. For (2), @tf.function has reduce_retracing=True option that can avoid unnecessary retracing. For (3), please refer to https://www.tensorflow.org/guide/function#controlling_retracing and https://www.tensorflow.org/api_docs/python/tf/function for  more details.\n",
      "1/1 [==============================] - 0s 292ms/step\n",
      "n1: 16, n2: 8, rmse: 653835.9752283514\n",
      "999\n",
      "1/1 [==============================] - 0s 286ms/step\n",
      "n1: 16, n2: 16, rmse: 498026.1847285025\n",
      "999\n",
      "1/1 [==============================] - 0s 284ms/step\n",
      "n1: 16, n2: 32, rmse: 900344.2522448206\n",
      "999\n",
      "1/1 [==============================] - 0s 286ms/step\n",
      "n1: 16, n2: 64, rmse: 996489.9297188497\n",
      "981\n",
      "1/1 [==============================] - 0s 292ms/step\n",
      "n1: 16, n2: 128, rmse: 979897.0422793829\n",
      "999\n",
      "1/1 [==============================] - 0s 289ms/step\n",
      "n1: 32, n2: 8, rmse: 566215.9335400142\n",
      "999\n",
      "1/1 [==============================] - 0s 288ms/step\n",
      "n1: 32, n2: 16, rmse: 872807.2588417087\n",
      "999\n",
      "1/1 [==============================] - 0s 287ms/step\n",
      "n1: 32, n2: 32, rmse: 978525.6682399743\n",
      "999\n",
      "1/1 [==============================] - 0s 284ms/step\n",
      "n1: 32, n2: 64, rmse: 985851.4604591393\n",
      "794\n",
      "1/1 [==============================] - 0s 292ms/step\n",
      "n1: 32, n2: 128, rmse: 979748.6883056295\n",
      "999\n",
      "1/1 [==============================] - 0s 289ms/step\n",
      "n1: 64, n2: 8, rmse: 589607.1326703146\n",
      "999\n",
      "1/1 [==============================] - 0s 296ms/step\n",
      "n1: 64, n2: 16, rmse: 981600.3224908321\n",
      "999\n",
      "1/1 [==============================] - 0s 291ms/step\n",
      "n1: 64, n2: 32, rmse: 986941.3190538166\n",
      "728\n",
      "1/1 [==============================] - 0s 311ms/step\n",
      "n1: 64, n2: 64, rmse: 968283.1340493269\n",
      "601\n",
      "1/1 [==============================] - 0s 315ms/step\n",
      "n1: 64, n2: 128, rmse: 982944.4194458893\n",
      "999\n",
      "1/1 [==============================] - 0s 309ms/step\n",
      "n1: 128, n2: 8, rmse: 992723.6060850944\n",
      "999\n",
      "1/1 [==============================] - 0s 313ms/step\n",
      "n1: 128, n2: 16, rmse: 987452.918518401\n",
      "883\n",
      "1/1 [==============================] - 0s 327ms/step\n",
      "n1: 128, n2: 32, rmse: 972989.4816094373\n",
      "577\n",
      "1/1 [==============================] - 0s 314ms/step\n",
      "n1: 128, n2: 64, rmse: 974634.6862748414\n",
      "471\n",
      "1/1 [==============================] - 0s 321ms/step\n",
      "n1: 128, n2: 128, rmse: 975179.5835313528\n"
     ]
    }
   ],
   "source": [
    "all_rmse_lstm =list()\n",
    "neuron_1 = list()\n",
    "neuron_2 = list()\n",
    "for n1 in [8,16,32,64,128]:\n",
    "    for n2 in [8,16,32,64,128]:\n",
    "        # define model\n",
    "        model = Sequential()\n",
    "        model.add(LSTM(n1, activation='relu', return_sequences=True,  input_shape=(n_steps, n_features)))#, dropout=0.5, \n",
    "        model.add(LSTM(n2, activation='relu'))\n",
    "        model.add(Dense(1))\n",
    "        model.compile(optimizer=Adam(learning_rate=.001), loss='mse')\n",
    "\n",
    "        es = EarlyStopping(patience = 30)\n",
    "        # fit model\n",
    "        lstm = model.fit(X_train_scaled, y_train, epochs=1000, verbose=0, validation_data=(X_test_scaled, y_test), batch_size=32, callbacks = [es]) \n",
    "    \n",
    "        # Find the best epoch.\n",
    "        best_epoch = find_best_epoch(lstm.history)\n",
    "        print (best_epoch)\n",
    "        # Demonstrate predictions.\n",
    "        lstm = model.fit(X_train_scaled, y_train, epochs=best_epoch, verbose=0, validation_data=(X_test_scaled, y_test), batch_size=32)\n",
    "        preds = model.predict(X_test_scaled[-4:])\n",
    "    \n",
    "        rmse_lstm = mean_squared_error(y_test[-4:], preds, squared=False)\n",
    "        all_rmse_lstm.append(rmse_lstm)\n",
    "        neuron_1.append(n1)\n",
    "        neuron_2.append(n2)\n",
    "        model.reset_states()\n",
    "        print (f'n1: {n1}, n2: {n2}, rmse: {rmse_lstm}')\n",
    "all_scores = pd.DataFrame({'neuron_1':neuron_1, 'neuron_2':neuron_2, 'rmse':all_rmse_lstm})"
   ]
  },
  {
   "cell_type": "code",
   "execution_count": 16,
   "id": "0c9b1c23",
   "metadata": {},
   "outputs": [
    {
     "data": {
      "text/html": [
       "<div>\n",
       "<style scoped>\n",
       "    .dataframe tbody tr th:only-of-type {\n",
       "        vertical-align: middle;\n",
       "    }\n",
       "\n",
       "    .dataframe tbody tr th {\n",
       "        vertical-align: top;\n",
       "    }\n",
       "\n",
       "    .dataframe thead th {\n",
       "        text-align: right;\n",
       "    }\n",
       "</style>\n",
       "<table border=\"1\" class=\"dataframe\">\n",
       "  <thead>\n",
       "    <tr style=\"text-align: right;\">\n",
       "      <th></th>\n",
       "      <th>neuron_1</th>\n",
       "      <th>neuron_2</th>\n",
       "      <th>rmse</th>\n",
       "    </tr>\n",
       "  </thead>\n",
       "  <tbody>\n",
       "    <tr>\n",
       "      <th>0</th>\n",
       "      <td>8</td>\n",
       "      <td>8</td>\n",
       "      <td>5.930783e+05</td>\n",
       "    </tr>\n",
       "    <tr>\n",
       "      <th>1</th>\n",
       "      <td>8</td>\n",
       "      <td>16</td>\n",
       "      <td>5.569464e+05</td>\n",
       "    </tr>\n",
       "    <tr>\n",
       "      <th>2</th>\n",
       "      <td>8</td>\n",
       "      <td>32</td>\n",
       "      <td>8.409480e+05</td>\n",
       "    </tr>\n",
       "    <tr>\n",
       "      <th>3</th>\n",
       "      <td>8</td>\n",
       "      <td>64</td>\n",
       "      <td>7.584815e+05</td>\n",
       "    </tr>\n",
       "    <tr>\n",
       "      <th>4</th>\n",
       "      <td>8</td>\n",
       "      <td>128</td>\n",
       "      <td>1.020140e+06</td>\n",
       "    </tr>\n",
       "    <tr>\n",
       "      <th>5</th>\n",
       "      <td>16</td>\n",
       "      <td>8</td>\n",
       "      <td>6.538360e+05</td>\n",
       "    </tr>\n",
       "    <tr>\n",
       "      <th>6</th>\n",
       "      <td>16</td>\n",
       "      <td>16</td>\n",
       "      <td>4.980262e+05</td>\n",
       "    </tr>\n",
       "    <tr>\n",
       "      <th>7</th>\n",
       "      <td>16</td>\n",
       "      <td>32</td>\n",
       "      <td>9.003443e+05</td>\n",
       "    </tr>\n",
       "    <tr>\n",
       "      <th>8</th>\n",
       "      <td>16</td>\n",
       "      <td>64</td>\n",
       "      <td>9.964899e+05</td>\n",
       "    </tr>\n",
       "    <tr>\n",
       "      <th>9</th>\n",
       "      <td>16</td>\n",
       "      <td>128</td>\n",
       "      <td>9.798970e+05</td>\n",
       "    </tr>\n",
       "    <tr>\n",
       "      <th>10</th>\n",
       "      <td>32</td>\n",
       "      <td>8</td>\n",
       "      <td>5.662159e+05</td>\n",
       "    </tr>\n",
       "    <tr>\n",
       "      <th>11</th>\n",
       "      <td>32</td>\n",
       "      <td>16</td>\n",
       "      <td>8.728073e+05</td>\n",
       "    </tr>\n",
       "    <tr>\n",
       "      <th>12</th>\n",
       "      <td>32</td>\n",
       "      <td>32</td>\n",
       "      <td>9.785257e+05</td>\n",
       "    </tr>\n",
       "    <tr>\n",
       "      <th>13</th>\n",
       "      <td>32</td>\n",
       "      <td>64</td>\n",
       "      <td>9.858515e+05</td>\n",
       "    </tr>\n",
       "    <tr>\n",
       "      <th>14</th>\n",
       "      <td>32</td>\n",
       "      <td>128</td>\n",
       "      <td>9.797487e+05</td>\n",
       "    </tr>\n",
       "    <tr>\n",
       "      <th>15</th>\n",
       "      <td>64</td>\n",
       "      <td>8</td>\n",
       "      <td>5.896071e+05</td>\n",
       "    </tr>\n",
       "    <tr>\n",
       "      <th>16</th>\n",
       "      <td>64</td>\n",
       "      <td>16</td>\n",
       "      <td>9.816003e+05</td>\n",
       "    </tr>\n",
       "    <tr>\n",
       "      <th>17</th>\n",
       "      <td>64</td>\n",
       "      <td>32</td>\n",
       "      <td>9.869413e+05</td>\n",
       "    </tr>\n",
       "    <tr>\n",
       "      <th>18</th>\n",
       "      <td>64</td>\n",
       "      <td>64</td>\n",
       "      <td>9.682831e+05</td>\n",
       "    </tr>\n",
       "    <tr>\n",
       "      <th>19</th>\n",
       "      <td>64</td>\n",
       "      <td>128</td>\n",
       "      <td>9.829444e+05</td>\n",
       "    </tr>\n",
       "    <tr>\n",
       "      <th>20</th>\n",
       "      <td>128</td>\n",
       "      <td>8</td>\n",
       "      <td>9.927236e+05</td>\n",
       "    </tr>\n",
       "    <tr>\n",
       "      <th>21</th>\n",
       "      <td>128</td>\n",
       "      <td>16</td>\n",
       "      <td>9.874529e+05</td>\n",
       "    </tr>\n",
       "    <tr>\n",
       "      <th>22</th>\n",
       "      <td>128</td>\n",
       "      <td>32</td>\n",
       "      <td>9.729895e+05</td>\n",
       "    </tr>\n",
       "    <tr>\n",
       "      <th>23</th>\n",
       "      <td>128</td>\n",
       "      <td>64</td>\n",
       "      <td>9.746347e+05</td>\n",
       "    </tr>\n",
       "    <tr>\n",
       "      <th>24</th>\n",
       "      <td>128</td>\n",
       "      <td>128</td>\n",
       "      <td>9.751796e+05</td>\n",
       "    </tr>\n",
       "  </tbody>\n",
       "</table>\n",
       "</div>"
      ],
      "text/plain": [
       "    neuron_1  neuron_2          rmse\n",
       "0          8         8  5.930783e+05\n",
       "1          8        16  5.569464e+05\n",
       "2          8        32  8.409480e+05\n",
       "3          8        64  7.584815e+05\n",
       "4          8       128  1.020140e+06\n",
       "5         16         8  6.538360e+05\n",
       "6         16        16  4.980262e+05\n",
       "7         16        32  9.003443e+05\n",
       "8         16        64  9.964899e+05\n",
       "9         16       128  9.798970e+05\n",
       "10        32         8  5.662159e+05\n",
       "11        32        16  8.728073e+05\n",
       "12        32        32  9.785257e+05\n",
       "13        32        64  9.858515e+05\n",
       "14        32       128  9.797487e+05\n",
       "15        64         8  5.896071e+05\n",
       "16        64        16  9.816003e+05\n",
       "17        64        32  9.869413e+05\n",
       "18        64        64  9.682831e+05\n",
       "19        64       128  9.829444e+05\n",
       "20       128         8  9.927236e+05\n",
       "21       128        16  9.874529e+05\n",
       "22       128        32  9.729895e+05\n",
       "23       128        64  9.746347e+05\n",
       "24       128       128  9.751796e+05"
      ]
     },
     "execution_count": 16,
     "metadata": {},
     "output_type": "execute_result"
    }
   ],
   "source": [
    "all_scores"
   ]
  },
  {
   "cell_type": "code",
   "execution_count": 17,
   "id": "91d899f7",
   "metadata": {},
   "outputs": [],
   "source": [
    "all_scores.to_csv('../Data_Historical/all_score.csv')"
   ]
  },
  {
   "cell_type": "code",
   "execution_count": 18,
   "id": "8dd8b8d9",
   "metadata": {},
   "outputs": [],
   "source": [
    "all_scores = pd.read_csv('../Data_Historical/all_score.csv')"
   ]
  },
  {
   "cell_type": "code",
   "execution_count": 19,
   "id": "766e86f7",
   "metadata": {},
   "outputs": [
    {
     "data": {
      "text/html": [
       "<div>\n",
       "<style scoped>\n",
       "    .dataframe tbody tr th:only-of-type {\n",
       "        vertical-align: middle;\n",
       "    }\n",
       "\n",
       "    .dataframe tbody tr th {\n",
       "        vertical-align: top;\n",
       "    }\n",
       "\n",
       "    .dataframe thead th {\n",
       "        text-align: right;\n",
       "    }\n",
       "</style>\n",
       "<table border=\"1\" class=\"dataframe\">\n",
       "  <thead>\n",
       "    <tr style=\"text-align: right;\">\n",
       "      <th></th>\n",
       "      <th>Unnamed: 0</th>\n",
       "      <th>neuron_1</th>\n",
       "      <th>neuron_2</th>\n",
       "      <th>rmse</th>\n",
       "    </tr>\n",
       "  </thead>\n",
       "  <tbody>\n",
       "    <tr>\n",
       "      <th>6</th>\n",
       "      <td>6</td>\n",
       "      <td>16</td>\n",
       "      <td>16</td>\n",
       "      <td>498026.184729</td>\n",
       "    </tr>\n",
       "  </tbody>\n",
       "</table>\n",
       "</div>"
      ],
      "text/plain": [
       "   Unnamed: 0  neuron_1  neuron_2           rmse\n",
       "6           6        16        16  498026.184729"
      ]
     },
     "execution_count": 19,
     "metadata": {},
     "output_type": "execute_result"
    }
   ],
   "source": [
    "# Best RMSE score is when First layer neuron = 16 and 2nd layet neuron = 9.\n",
    "all_scores[all_scores['rmse']== all_scores['rmse'].min()]"
   ]
  },
  {
   "attachments": {},
   "cell_type": "markdown",
   "id": "0733768b",
   "metadata": {},
   "source": [
    "Due to the stochastic nature of neural network, the result fluctuates everytime we run the same model with same parameter. After a few trials, I found that 64 neuron in the first layer and 32 neurons in the second layer gave the overall best results."
   ]
  },
  {
   "cell_type": "code",
   "execution_count": 46,
   "id": "f7f1c470",
   "metadata": {},
   "outputs": [
    {
     "name": "stdout",
     "output_type": "stream",
     "text": [
      "1/1 [==============================] - 0s 311ms/step\n"
     ]
    },
    {
     "data": {
      "text/plain": [
       "500553.20147063484"
      ]
     },
     "execution_count": 46,
     "metadata": {},
     "output_type": "execute_result"
    }
   ],
   "source": [
    "# set seed.\n",
    "seed(1)\n",
    "tf.random.set_seed(2)\n",
    "\n",
    "# define model\n",
    "#model.reset_states()\n",
    "model = Sequential()\n",
    "model.add(LSTM(64, activation='relu', return_sequences=True,  input_shape=(n_steps, n_features)))#, dropout=0.5, \n",
    "model.add(LSTM(32, activation='relu'))\n",
    "model.add(Dense(1))\n",
    "model.compile(optimizer=Adam(learning_rate=.001), loss='mse')\n",
    "\n",
    "es = EarlyStopping(patience = 15)\n",
    "# fit model\n",
    "#lstm = model.fit(X_train_scaled, y_train, epochs=2000, verbose=0, validation_data=(X_test_scaled, y_test), batch_size=64, callbacks = [es]) \n",
    "    \n",
    "# Find the best epoch.\n",
    "#best_epoch = find_best_epoch(lstm.history)\n",
    "#print (best_epoch)\n",
    "    \n",
    "# Demonstrate predictions.\n",
    "#model.reset_states()\n",
    "lstm = model.fit(X_train_scaled, y_train, epochs=800, verbose=0, batch_size=32, validation_data=(X_test_scaled, y_test)) # \n",
    "preds = model.predict(X_test_scaled[-4:])\n",
    "    \n",
    "rmse_lstm = mean_squared_error(y_test[-4:], preds, squared=False)\n",
    "rmse_lstm"
   ]
  },
  {
   "cell_type": "code",
   "execution_count": 47,
   "id": "b76165e9",
   "metadata": {},
   "outputs": [
    {
     "data": {
      "image/png": "[encoded data removed]",
      "text/plain": [
       "<Figure size 800x500 with 1 Axes>"
      ]
     },
     "metadata": {},
     "output_type": "display_data"
    },
    {
     "name": "stdout",
     "output_type": "stream",
     "text": [
      "RMSE of LSTM model is: 500553.20147063484\n"
     ]
    }
   ],
   "source": [
    "# Plot data.\n",
    "plt.figure(figsize=(8,5))\n",
    "\n",
    "# Plot testing data.\n",
    "plt.plot(pd.DataFrame(y_test[-4:]).index, pd.DataFrame(y_test[-4:]), color = 'orange')\n",
    "\n",
    "# Plot predicted test values.\n",
    "plt.plot(pd.DataFrame(y_test[-4:]).index, preds, color = 'green')\n",
    "plt.legend(['Test Data','Predictions'])\n",
    "plt.title(label = 'LSTM Predictions', fontsize=16)\n",
    "plt.show();\n",
    "\n",
    "rmse_lstm = mean_squared_error(y_test[-4:], preds, squared=False)\n",
    "print (f'RMSE of LSTM model is: {rmse_lstm}')"
   ]
  },
  {
   "attachments": {},
   "cell_type": "markdown",
   "id": "01fff144",
   "metadata": {},
   "source": [
    "Due to the stochastic nature of LSTM model, the predicted value is different at every run. Once we set a seed, we are able to have a closer range of predictions although not the exact same value. Although the RMSE value of this model is slightly higher than SARIMAX model, it is easier to implement as it does not need to find an exogenous feature."
   ]
  }
 ],
 "metadata": {
  "kernelspec": {
   "display_name": "Python 3",
   "language": "python",
   "name": "python3"
  },
  "language_info": {
   "codemirror_mode": {
    "name": "ipython",
    "version": 3
   },
   "file_extension": ".py",
   "mimetype": "text/x-python",
   "name": "python",
   "nbconvert_exporter": "python",
   "pygments_lexer": "ipython3",
   "version": "3.10.10"
  },
  "vscode": {
   "interpreter": {
    "hash": "e19db1e9da599290b8ff42b0f8e8323be965d18c8fa7c16db7240545f8fbedb0"
   }
  }
 },
 "nbformat": 4,
 "nbformat_minor": 5
}
