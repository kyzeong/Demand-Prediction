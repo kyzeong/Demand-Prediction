{
 "cells": [
  {
   "cell_type": "code",
   "execution_count": 1,
   "id": "c919555a",
   "metadata": {},
   "outputs": [],
   "source": [
    "# df.resample('M').mean()"
   ]
  },
  {
   "attachments": {},
   "cell_type": "markdown",
   "id": "062770fe",
   "metadata": {},
   "source": [
    "# Data Dictionary"
   ]
  },
  {
   "attachments": {},
   "cell_type": "markdown",
   "id": "ad6b588a",
   "metadata": {},
   "source": [
    "|Feature|Type|Description|\n",
    "|---|---|---|\n",
    "|Product_Code|*string*|The product name encoded|\n",
    "|Warehouse|*string*|Warehouse ID|\n",
    "|Product_Category|*string*|Product category of each product|\n",
    "|Date|*string*|The date customer needs the product|\n",
    "|Order_Demand|*string*|Order quantity|"
   ]
  },
  {
   "cell_type": "code",
   "execution_count": 2,
   "id": "52f64c2b",
   "metadata": {},
   "outputs": [],
   "source": [
    "# Import libraries.\n",
    "import numpy as np\n",
    "import pandas as pd\n",
    "import matplotlib.pyplot as plt\n",
    "import tensorflow as tf\n",
    "from matplotlib import pyplot\n",
    "from sklearn.preprocessing import MinMaxScaler\n",
    "from sklearn.metrics import mean_squared_error\n",
    "from tensorflow.keras.models import Sequential\n",
    "from tensorflow.keras.layers import LSTM, GRU, Dense\n",
    "from tensorflow.keras.optimizers import Adam\n",
    "from tensorflow_addons.metrics import RSquare\n",
    "from tensorflow.keras.callbacks import EarlyStopping"
   ]
  },
  {
   "cell_type": "code",
   "execution_count": 3,
   "id": "59efff99",
   "metadata": {},
   "outputs": [
    {
     "data": {
      "text/plain": [
       "(924272, 5)"
      ]
     },
     "execution_count": 3,
     "metadata": {},
     "output_type": "execute_result"
    }
   ],
   "source": [
    "# Read csv file and display shape.\n",
    "df = pd.read_csv('../Data_Historical/df2.csv').iloc[:,1:]\n",
    "df.shape"
   ]
  },
  {
   "cell_type": "code",
   "execution_count": 4,
   "id": "5487f4aa",
   "metadata": {},
   "outputs": [
    {
     "data": {
      "text/html": [
       "<div>\n",
       "<style scoped>\n",
       "    .dataframe tbody tr th:only-of-type {\n",
       "        vertical-align: middle;\n",
       "    }\n",
       "\n",
       "    .dataframe tbody tr th {\n",
       "        vertical-align: top;\n",
       "    }\n",
       "\n",
       "    .dataframe thead th {\n",
       "        text-align: right;\n",
       "    }\n",
       "</style>\n",
       "<table border=\"1\" class=\"dataframe\">\n",
       "  <thead>\n",
       "    <tr style=\"text-align: right;\">\n",
       "      <th></th>\n",
       "      <th>Product_Code</th>\n",
       "      <th>Warehouse</th>\n",
       "      <th>Product_Category</th>\n",
       "      <th>Date</th>\n",
       "      <th>Order_Demand</th>\n",
       "    </tr>\n",
       "  </thead>\n",
       "  <tbody>\n",
       "    <tr>\n",
       "      <th>0</th>\n",
       "      <td>Product_0965</td>\n",
       "      <td>Whse_A</td>\n",
       "      <td>Category_006</td>\n",
       "      <td>2011-01-08</td>\n",
       "      <td>2</td>\n",
       "    </tr>\n",
       "    <tr>\n",
       "      <th>1</th>\n",
       "      <td>Product_1724</td>\n",
       "      <td>Whse_A</td>\n",
       "      <td>Category_003</td>\n",
       "      <td>2011-05-31</td>\n",
       "      <td>108</td>\n",
       "    </tr>\n",
       "    <tr>\n",
       "      <th>2</th>\n",
       "      <td>Product_1521</td>\n",
       "      <td>Whse_S</td>\n",
       "      <td>Category_019</td>\n",
       "      <td>2011-06-24</td>\n",
       "      <td>85000</td>\n",
       "    </tr>\n",
       "    <tr>\n",
       "      <th>3</th>\n",
       "      <td>Product_1521</td>\n",
       "      <td>Whse_S</td>\n",
       "      <td>Category_019</td>\n",
       "      <td>2011-06-24</td>\n",
       "      <td>7000</td>\n",
       "    </tr>\n",
       "    <tr>\n",
       "      <th>4</th>\n",
       "      <td>Product_1507</td>\n",
       "      <td>Whse_C</td>\n",
       "      <td>Category_019</td>\n",
       "      <td>2011-09-02</td>\n",
       "      <td>1250</td>\n",
       "    </tr>\n",
       "  </tbody>\n",
       "</table>\n",
       "</div>"
      ],
      "text/plain": [
       "   Product_Code Warehouse Product_Category        Date  Order_Demand\n",
       "0  Product_0965    Whse_A     Category_006  2011-01-08             2\n",
       "1  Product_1724    Whse_A     Category_003  2011-05-31           108\n",
       "2  Product_1521    Whse_S     Category_019  2011-06-24         85000\n",
       "3  Product_1521    Whse_S     Category_019  2011-06-24          7000\n",
       "4  Product_1507    Whse_C     Category_019  2011-09-02          1250"
      ]
     },
     "execution_count": 4,
     "metadata": {},
     "output_type": "execute_result"
    }
   ],
   "source": [
    "df.head()"
   ]
  },
  {
   "cell_type": "markdown",
   "id": "5b73f7dd",
   "metadata": {},
   "source": [
    "df_init = df[df['Product_Code']==code]\n",
    "    df_init['Date'] = pd.to_datetime(df_init['Date'])\n",
    "    df_init = df_init.set_index('Date')\n",
    "    df_init = pd.DataFrame((df_init['Order_Demand']).resample('W').sum())\n",
    "    df_init.rename(columns={'Order_Demand':code},inplace=True)\n",
    "    all_cat_019 = pd.concat([all_cat_019,df_init],axis=1)"
   ]
  },
  {
   "cell_type": "code",
   "execution_count": 5,
   "id": "00da21e9",
   "metadata": {},
   "outputs": [],
   "source": [
    "tf.random.set_seed(7)"
   ]
  },
  {
   "cell_type": "code",
   "execution_count": 6,
   "id": "afb61ab0",
   "metadata": {},
   "outputs": [
    {
     "name": "stderr",
     "output_type": "stream",
     "text": [
      "C:\\Users\\Zeonice\\AppData\\Local\\Temp\\ipykernel_3280\\1070879320.py:5: SettingWithCopyWarning: \n",
      "A value is trying to be set on a copy of a slice from a DataFrame.\n",
      "Try using .loc[row_indexer,col_indexer] = value instead\n",
      "\n",
      "See the caveats in the documentation: https://pandas.pydata.org/pandas-docs/stable/user_guide/indexing.html#returning-a-view-versus-a-copy\n",
      "  df_1359['Date'] = pd.to_datetime(df_1359['Date'])\n"
     ]
    }
   ],
   "source": [
    "# Queries all rows of Product 1359.\n",
    "df_1359 = df[df['Product_Code']=='Product_1359']\n",
    "\n",
    "# Convert Date to datetime format.\n",
    "df_1359['Date'] = pd.to_datetime(df_1359['Date'])\n",
    "\n",
    "# Set Date as index.\n",
    "df_1359 = df_1359.set_index('Date')\n",
    "\n",
    "# Resample Order Demand of Product 1359 to weekly sales in the multiple of 1000.\n",
    "prod_1359 = pd.DataFrame((df_1359['Order_Demand']/1000).resample('W').sum())\n",
    "prod_1359.rename(columns={'Order_Demand':'demand'}, inplace=True)"
   ]
  },
  {
   "cell_type": "code",
   "execution_count": 7,
   "id": "0064b979",
   "metadata": {},
   "outputs": [
    {
     "data": {
      "text/plain": [
       "(262, 1)"
      ]
     },
     "execution_count": 7,
     "metadata": {},
     "output_type": "execute_result"
    }
   ],
   "source": [
    "prod_1359.shape"
   ]
  },
  {
   "cell_type": "code",
   "execution_count": 8,
   "id": "4915b0ba",
   "metadata": {},
   "outputs": [],
   "source": [
    "# frame a sequence as a supervised learning problem\n",
    "def timeseries_to_supervised(data, lag=1):\n",
    " df = pd.DataFrame(data)\n",
    " columns = [df.shift(i) for i in range(1, lag+1)]\n",
    " columns.append(df)\n",
    " df = pd.concat(columns, axis=1)\n",
    " df = df.drop(0)\n",
    " return df\n",
    "\n",
    "# create a differenced series\n",
    "def difference(dataset, interval=1):\n",
    " diff = list()\n",
    " for i in range(interval, len(dataset)):\n",
    "    value = dataset[i] - dataset[i - interval]\n",
    "    diff.append(value)\n",
    " return pd.Series(diff)\n",
    "\n",
    "# scale train and test data to [-1, 1]\n",
    "def scale(train, test):\n",
    " # fit scaler\n",
    " scaler = MinMaxScaler(feature_range=(-1, 1))\n",
    " scaler = scaler.fit(train)\n",
    " # transform train\n",
    " train = train.reshape(train.shape[0], train.shape[1])\n",
    " train_scaled = scaler.transform(train)\n",
    " # transform test\n",
    " test = test.reshape(test.shape[0], test.shape[1])\n",
    " test_scaled = scaler.transform(test)\n",
    " return scaler, train_scaled, test_scaled\n",
    "\n",
    "# inverse scaling for a forecasted value\n",
    "def invert_scale(scaler, X, yhat):\n",
    " new_row = [x for x in X] + [yhat]\n",
    " array = np.array(new_row)\n",
    " array = array.reshape(1, len(array))\n",
    " inverted = scaler.inverse_transform(array)\n",
    " return inverted[0, -1]\n",
    "\n",
    "# evaluate the model on a dataset, returns RMSE in transformed units\n",
    "def evaluate(model, raw_data, scaled_dataset, scaler, offset, batch_size):\n",
    " # separate\n",
    " X, y = scaled_dataset[:,0:-1], scaled_dataset[:,-1]\n",
    " # reshape\n",
    " reshaped = X.reshape(len(X), 1, 1)\n",
    " # forecast dataset\n",
    " output = model.predict(reshaped, batch_size=batch_size)\n",
    " # invert data transforms on forecast\n",
    " predictions = list()\n",
    " for i in range(len(output)):\n",
    "    yhat = output[i,0]\n",
    " # invert scaling\n",
    "    yhat = invert_scale(scaler, X[i], yhat)\n",
    " # invert differencing\n",
    "    yhat = yhat + raw_data[i]\n",
    " # store forecast\n",
    "    predictions.append(yhat)\n",
    " # report performance\n",
    " rmse = np.sqrt(mean_squared_error(raw_data[1:], predictions))\n",
    " return rmse"
   ]
  },
  {
   "cell_type": "code",
   "execution_count": 19,
   "id": "3e6a79db",
   "metadata": {},
   "outputs": [],
   "source": [
    "# fit an LSTM network to training data\n",
    "def fit_lstm(train, test, raw, scaler, batch_size, nb_epoch, neurons):\n",
    " X, y = train[:, 0:-1], train[:, -1]\n",
    " X = X.reshape(X.shape[0], 1, X.shape[1])\n",
    " # prepare model\n",
    " model = Sequential()\n",
    " model.add(LSTM(neurons, activation='relu', return_sequences=True, input_shape=(n_steps, n_features)))\n",
    " model.add(LSTM(neurons,activation='relu'))\n",
    " model.add(Dense(1))\n",
    " model.compile(loss='mean_squared_error', optimizer='adam')\n",
    " # fit model\n",
    " train_rmse, test_rmse = list(), list()\n",
    " for i in range(nb_epoch):\n",
    "    model.fit(X, y, epochs=i, batch_size=batch_size, verbose=0, shuffle=False)\n",
    "    model.reset_states()\n",
    " # evaluate model on train data\n",
    "    raw_train = raw[-(len(train)+len(test)+1):-len(test)]\n",
    "    train_rmse.append(evaluate(model, raw_train, train, scaler, 0, batch_size))\n",
    "    model.reset_states()\n",
    " # evaluate model on test data\n",
    "    raw_test = raw[-(len(test)+1):]\n",
    "    test_rmse.append(evaluate(model, raw_test, test, scaler, 0, batch_size))\n",
    "    model.reset_states()\n",
    "    history = pd.DataFrame()\n",
    "    history['train'], history['test'] = train_rmse, test_rmse\n",
    " return history"
   ]
  },
  {
   "cell_type": "code",
   "execution_count": 10,
   "id": "1ed7db02",
   "metadata": {},
   "outputs": [
    {
     "data": {
      "text/plain": [
       "<Figure size 640x480 with 0 Axes>"
      ]
     },
     "metadata": {},
     "output_type": "display_data"
    }
   ],
   "source": [
    "def run():\n",
    " # load dataset\n",
    " # series = pd.read_csv('shampoo-sales.csv', header=0, parse_dates=[0], index_col=0, squeeze=True, date_parser=parser)\n",
    " # transform data to be stationary\n",
    " raw_values = prod_1359.values\n",
    " diff_values = difference(raw_values, 1)\n",
    " # transform data to be supervised learning\n",
    " supervised = timeseries_to_supervised(diff_values, 1)\n",
    " supervised_values = supervised.values\n",
    " # split data into train and test-sets\n",
    " train, test = supervised_values[0:-12], supervised_values[-12:]\n",
    " # transform the scale of the data\n",
    " scaler, train_scaled, test_scaled = scale(train, test)\n",
    " # fit and evaluate model\n",
    " train_trimmed = train_scaled[2:, :]\n",
    " # config\n",
    " repeats = 1\n",
    " n_batch = 1\n",
    " n_epochs = 2\n",
    " n_neurons = 1\n",
    " # run diagnostic tests\n",
    " for i in range(repeats):\n",
    "    history = fit_lstm(train_trimmed, test_scaled, raw_values, scaler, n_batch, n_epochs, n_neurons)\n",
    "    pyplot.plot(history['train'], color='blue')\n",
    "    pyplot.plot(history['test'], color='orange')\n",
    "    print('%d) TrainRMSE=%f, TestRMSE=%f' % (i, history['train'].iloc[-1], history['test'].iloc[-1]))\n",
    "pyplot.savefig('epochs_diagnostic.png')"
   ]
  },
  {
   "cell_type": "code",
   "execution_count": 11,
   "id": "66d1252a",
   "metadata": {},
   "outputs": [],
   "source": [
    "raw_values = prod_1359.values\n",
    "diff_values = difference(raw_values, 1)\n",
    "supervised = timeseries_to_supervised(diff_values, 1)\n",
    "supervised_values = supervised.values\n",
    "train, test = supervised_values[0:-4], supervised_values[-4:]\n",
    "scaler, train_scaled, test_scaled = scale(train, test)\n",
    "train_trimmed = train_scaled[2:, :]\n",
    " "
   ]
  },
  {
   "cell_type": "code",
   "execution_count": 21,
   "id": "d7e28271",
   "metadata": {},
   "outputs": [
    {
     "name": "stdout",
     "output_type": "stream",
     "text": [
      "64/64 [==============================] - 1s 2ms/step\n",
      "1/1 [==============================] - 0s 29ms/step\n",
      "64/64 [==============================] - 0s 2ms/step\n",
      "1/1 [==============================] - 0s 22ms/step\n",
      "64/64 [==============================] - 0s 2ms/step\n",
      "1/1 [==============================] - 0s 21ms/step\n",
      "64/64 [==============================] - 0s 2ms/step\n",
      "1/1 [==============================] - 0s 23ms/step\n",
      "64/64 [==============================] - 0s 2ms/step\n",
      "1/1 [==============================] - 0s 26ms/step\n",
      "64/64 [==============================] - 0s 2ms/step\n",
      "1/1 [==============================] - 0s 26ms/step\n",
      "64/64 [==============================] - 0s 1ms/step\n",
      "1/1 [==============================] - 0s 22ms/step\n",
      "64/64 [==============================] - 0s 2ms/step\n",
      "1/1 [==============================] - 0s 26ms/step\n",
      "64/64 [==============================] - 0s 2ms/step\n",
      "1/1 [==============================] - 0s 25ms/step\n",
      "64/64 [==============================] - 0s 2ms/step\n",
      "1/1 [==============================] - 0s 26ms/step\n",
      "64/64 [==============================] - 0s 2ms/step\n",
      "1/1 [==============================] - 0s 24ms/step\n",
      "64/64 [==============================] - 0s 2ms/step\n",
      "1/1 [==============================] - 0s 23ms/step\n",
      "64/64 [==============================] - 0s 2ms/step\n",
      "1/1 [==============================] - 0s 29ms/step\n",
      "64/64 [==============================] - 0s 1ms/step\n",
      "1/1 [==============================] - 0s 21ms/step\n",
      "64/64 [==============================] - 0s 1ms/step\n",
      "1/1 [==============================] - 0s 26ms/step\n",
      "64/64 [==============================] - 0s 2ms/step\n",
      "1/1 [==============================] - 0s 25ms/step\n",
      "64/64 [==============================] - 0s 2ms/step\n",
      "1/1 [==============================] - 0s 25ms/step\n",
      "64/64 [==============================] - 0s 2ms/step\n",
      "1/1 [==============================] - 0s 24ms/step\n",
      "64/64 [==============================] - 0s 2ms/step\n",
      "1/1 [==============================] - 0s 23ms/step\n",
      "64/64 [==============================] - 0s 2ms/step\n",
      "1/1 [==============================] - 0s 24ms/step\n",
      "64/64 [==============================] - 0s 2ms/step\n",
      "1/1 [==============================] - 0s 25ms/step\n",
      "64/64 [==============================] - 0s 2ms/step\n",
      "1/1 [==============================] - 0s 25ms/step\n",
      "64/64 [==============================] - 0s 2ms/step\n",
      "1/1 [==============================] - 0s 28ms/step\n",
      "64/64 [==============================] - 0s 2ms/step\n",
      "1/1 [==============================] - 0s 26ms/step\n",
      "64/64 [==============================] - 0s 2ms/step\n",
      "1/1 [==============================] - 0s 23ms/step\n",
      "64/64 [==============================] - 0s 2ms/step\n",
      "1/1 [==============================] - 0s 26ms/step\n",
      "64/64 [==============================] - 0s 2ms/step\n",
      "1/1 [==============================] - 0s 26ms/step\n",
      "64/64 [==============================] - 0s 2ms/step\n",
      "1/1 [==============================] - 0s 24ms/step\n",
      "64/64 [==============================] - 0s 2ms/step\n",
      "1/1 [==============================] - 0s 26ms/step\n",
      "64/64 [==============================] - 0s 2ms/step\n",
      "1/1 [==============================] - 0s 27ms/step\n",
      "64/64 [==============================] - 0s 2ms/step\n",
      "1/1 [==============================] - 0s 24ms/step\n",
      "64/64 [==============================] - 0s 2ms/step\n",
      "1/1 [==============================] - 0s 24ms/step\n",
      "64/64 [==============================] - 0s 2ms/step\n",
      "1/1 [==============================] - 0s 28ms/step\n",
      "64/64 [==============================] - 0s 2ms/step\n",
      "1/1 [==============================] - 0s 23ms/step\n",
      "64/64 [==============================] - 0s 2ms/step\n",
      "1/1 [==============================] - 0s 25ms/step\n",
      "64/64 [==============================] - 0s 2ms/step\n",
      "1/1 [==============================] - 0s 24ms/step\n",
      "64/64 [==============================] - 0s 2ms/step\n",
      "1/1 [==============================] - 0s 23ms/step\n",
      "64/64 [==============================] - 0s 2ms/step\n",
      "1/1 [==============================] - 0s 23ms/step\n",
      "64/64 [==============================] - 0s 2ms/step\n",
      "1/1 [==============================] - 0s 22ms/step\n",
      "64/64 [==============================] - 0s 2ms/step\n",
      "1/1 [==============================] - 0s 31ms/step\n",
      "64/64 [==============================] - 0s 2ms/step\n",
      "1/1 [==============================] - 0s 26ms/step\n",
      "64/64 [==============================] - 0s 2ms/step\n",
      "1/1 [==============================] - 0s 25ms/step\n",
      "64/64 [==============================] - 0s 2ms/step\n",
      "1/1 [==============================] - 0s 28ms/step\n",
      "64/64 [==============================] - 0s 2ms/step\n",
      "1/1 [==============================] - 0s 22ms/step\n",
      "64/64 [==============================] - 0s 2ms/step\n",
      "1/1 [==============================] - 0s 26ms/step\n",
      "64/64 [==============================] - 0s 2ms/step\n",
      "1/1 [==============================] - 0s 26ms/step\n",
      "64/64 [==============================] - 0s 2ms/step\n",
      "1/1 [==============================] - 0s 25ms/step\n",
      "64/64 [==============================] - 0s 2ms/step\n",
      "1/1 [==============================] - 0s 26ms/step\n",
      "64/64 [==============================] - 0s 2ms/step\n",
      "1/1 [==============================] - 0s 29ms/step\n",
      "64/64 [==============================] - 0s 2ms/step\n",
      "1/1 [==============================] - 0s 24ms/step\n",
      "64/64 [==============================] - 0s 2ms/step\n",
      "1/1 [==============================] - 0s 25ms/step\n",
      "64/64 [==============================] - 0s 2ms/step\n",
      "1/1 [==============================] - 0s 28ms/step\n",
      "64/64 [==============================] - 0s 2ms/step\n",
      "1/1 [==============================] - 0s 26ms/step\n",
      "64/64 [==============================] - 0s 2ms/step\n",
      "1/1 [==============================] - 0s 26ms/step\n",
      "64/64 [==============================] - 0s 2ms/step\n",
      "1/1 [==============================] - 0s 29ms/step\n",
      "64/64 [==============================] - 0s 2ms/step\n",
      "1/1 [==============================] - 0s 25ms/step\n",
      "64/64 [==============================] - 0s 2ms/step\n",
      "1/1 [==============================] - 0s 25ms/step\n",
      "64/64 [==============================] - 0s 2ms/step\n",
      "1/1 [==============================] - 0s 25ms/step\n",
      "64/64 [==============================] - 0s 2ms/step\n",
      "1/1 [==============================] - 0s 31ms/step\n",
      "64/64 [==============================] - 0s 2ms/step\n",
      "1/1 [==============================] - 0s 26ms/step\n",
      "64/64 [==============================] - 0s 2ms/step\n",
      "1/1 [==============================] - 0s 27ms/step\n",
      "64/64 [==============================] - 0s 2ms/step\n",
      "1/1 [==============================] - 0s 28ms/step\n",
      "64/64 [==============================] - 0s 2ms/step\n",
      "1/1 [==============================] - 0s 26ms/step\n",
      "64/64 [==============================] - 0s 2ms/step\n",
      "1/1 [==============================] - 0s 26ms/step\n",
      "64/64 [==============================] - 0s 2ms/step\n",
      "1/1 [==============================] - 0s 26ms/step\n",
      "64/64 [==============================] - 0s 2ms/step\n",
      "1/1 [==============================] - 0s 26ms/step\n",
      "64/64 [==============================] - 0s 2ms/step\n",
      "1/1 [==============================] - 0s 26ms/step\n",
      "64/64 [==============================] - 0s 2ms/step\n",
      "1/1 [==============================] - 0s 27ms/step\n",
      "64/64 [==============================] - 0s 2ms/step\n",
      "1/1 [==============================] - 0s 28ms/step\n",
      "64/64 [==============================] - 0s 2ms/step\n",
      "1/1 [==============================] - 0s 30ms/step\n",
      "64/64 [==============================] - 0s 2ms/step\n",
      "1/1 [==============================] - 0s 26ms/step\n",
      "64/64 [==============================] - 0s 2ms/step\n",
      "1/1 [==============================] - 0s 25ms/step\n",
      "64/64 [==============================] - 0s 2ms/step\n",
      "1/1 [==============================] - 0s 26ms/step\n",
      "64/64 [==============================] - 0s 2ms/step\n",
      "1/1 [==============================] - 0s 31ms/step\n",
      "64/64 [==============================] - 0s 2ms/step\n",
      "1/1 [==============================] - 0s 28ms/step\n",
      "64/64 [==============================] - 0s 2ms/step\n",
      "1/1 [==============================] - 0s 29ms/step\n",
      "64/64 [==============================] - 0s 2ms/step\n",
      "1/1 [==============================] - 0s 25ms/step\n",
      "64/64 [==============================] - 0s 2ms/step\n",
      "1/1 [==============================] - 0s 27ms/step\n",
      "64/64 [==============================] - 0s 2ms/step\n",
      "1/1 [==============================] - 0s 25ms/step\n",
      "64/64 [==============================] - 0s 2ms/step\n",
      "1/1 [==============================] - 0s 26ms/step\n",
      "64/64 [==============================] - 0s 2ms/step\n",
      "1/1 [==============================] - 0s 25ms/step\n",
      "64/64 [==============================] - 0s 2ms/step\n",
      "1/1 [==============================] - 0s 28ms/step\n",
      "64/64 [==============================] - 0s 2ms/step\n",
      "1/1 [==============================] - 0s 25ms/step\n",
      "64/64 [==============================] - 0s 2ms/step\n",
      "1/1 [==============================] - 0s 23ms/step\n",
      "64/64 [==============================] - 0s 2ms/step\n",
      "1/1 [==============================] - 0s 24ms/step\n",
      "64/64 [==============================] - 0s 2ms/step\n",
      "1/1 [==============================] - 0s 26ms/step\n",
      "64/64 [==============================] - 0s 2ms/step\n",
      "1/1 [==============================] - 0s 24ms/step\n",
      "64/64 [==============================] - 0s 2ms/step\n",
      "1/1 [==============================] - 0s 26ms/step\n",
      "64/64 [==============================] - 0s 2ms/step\n",
      "1/1 [==============================] - 0s 26ms/step\n",
      "64/64 [==============================] - 0s 2ms/step\n",
      "1/1 [==============================] - 0s 28ms/step\n",
      "64/64 [==============================] - 0s 2ms/step\n",
      "1/1 [==============================] - 0s 29ms/step\n",
      "64/64 [==============================] - 0s 2ms/step\n",
      "1/1 [==============================] - 0s 29ms/step\n",
      "64/64 [==============================] - 0s 2ms/step\n",
      "1/1 [==============================] - 0s 24ms/step\n",
      "64/64 [==============================] - 0s 2ms/step\n",
      "1/1 [==============================] - 0s 24ms/step\n",
      "64/64 [==============================] - 0s 2ms/step\n",
      "1/1 [==============================] - 0s 26ms/step\n",
      "64/64 [==============================] - 0s 2ms/step\n",
      "1/1 [==============================] - 0s 26ms/step\n",
      "64/64 [==============================] - 0s 2ms/step\n",
      "1/1 [==============================] - 0s 24ms/step\n",
      "64/64 [==============================] - 0s 2ms/step\n",
      "1/1 [==============================] - 0s 26ms/step\n",
      "64/64 [==============================] - 0s 2ms/step\n",
      "1/1 [==============================] - 0s 24ms/step\n",
      "64/64 [==============================] - 0s 2ms/step\n",
      "1/1 [==============================] - 0s 25ms/step\n",
      "0) TrainRMSE=798.394533, TestRMSE=612.411736\n"
     ]
    },
    {
     "data": {
      "image/png": "[encoded data removed]",
      "text/plain": [
       "<Figure size 640x480 with 1 Axes>"
      ]
     },
     "metadata": {},
     "output_type": "display_data"
    }
   ],
   "source": [
    "repeats = 1\n",
    "n_batch = 4\n",
    "n_epochs = 100\n",
    "n_neurons = 30\n",
    "n_steps = 1\n",
    "n_features = 1\n",
    "# run diagnostic tests\n",
    "for i in range(repeats):\n",
    "    history = fit_lstm(train_trimmed, test_scaled, raw_values, scaler, n_batch, n_epochs, n_neurons)\n",
    "    pyplot.plot(history['train'], color='blue')\n",
    "    pyplot.plot(history['test'], color='orange')\n",
    "    print('%d) TrainRMSE=%f, TestRMSE=%f' % (i, history['train'].iloc[-1], history['test'].iloc[-1]))"
   ]
  },
  {
   "cell_type": "code",
   "execution_count": null,
   "id": "53c819ad",
   "metadata": {},
   "outputs": [],
   "source": []
  },
  {
   "cell_type": "code",
   "execution_count": 13,
   "id": "c17c3087",
   "metadata": {},
   "outputs": [],
   "source": [
    "batch_size = 4\n",
    "neurons = 1\n",
    "n_steps =1\n",
    "n_features = 1"
   ]
  },
  {
   "cell_type": "code",
   "execution_count": 61,
   "id": "fec0442f",
   "metadata": {},
   "outputs": [
    {
     "data": {
      "text/plain": [
       "\"\\n \\n\\n # fit model\\n train_rmse, test_rmse = list(), list()\\n for i in range(nb_epoch):\\n    model.fit(X, y, epochs=i, batch_size=batch_size, verbose=0, shuffle=False)\\n    model.reset_states()\\n # evaluate model on train data\\n    raw_train = raw[-(len(train)+len(test)+1):-len(test)]\\n    train_rmse.append(evaluate(model, raw_train, train, scaler, 0, batch_size))\\n    model.reset_states()\\n # evaluate model on test data\\n    raw_test = raw[-(len(test)+1):]\\n    test_rmse.append(evaluate(model, raw_test, test, scaler, 0, batch_size))\\n    model.reset_states()\\n    history = pd.DataFrame()\\n    history['train'], history['test'] = train_rmse, test_rmse\\n return history\\n\""
      ]
     },
     "execution_count": 61,
     "metadata": {},
     "output_type": "execute_result"
    }
   ],
   "source": [
    "# fit an LSTM network to training data\n",
    "#def fit_lstm(train, test, raw, scaler, batch_size, nb_epoch, neurons):\n",
    "X, y = train_scaled[:, 0:-1], train[:, -1]\n",
    "X = X.reshape(X.shape[0], 1, X.shape[1])\n",
    "# prepare model\n",
    "model = Sequential()\n",
    "model.add(LSTM(neurons, input_shape=(n_steps, n_features))) #, batch_input_shape=(batch_size, X.shape[1], X.shape[2])\n",
    "model.add(Dense(1))\n",
    "model.compile(loss='mean_squared_error', optimizer='adam')\n",
    "\n",
    "model.fit(X, y, epochs=1, batch_size=batch_size, verbose=0, shuffle=False)\n",
    "\"\"\"\n",
    " \n",
    "\n",
    " # fit model\n",
    " train_rmse, test_rmse = list(), list()\n",
    " for i in range(nb_epoch):\n",
    "    model.fit(X, y, epochs=i, batch_size=batch_size, verbose=0, shuffle=False)\n",
    "    model.reset_states()\n",
    " # evaluate model on train data\n",
    "    raw_train = raw[-(len(train)+len(test)+1):-len(test)]\n",
    "    train_rmse.append(evaluate(model, raw_train, train, scaler, 0, batch_size))\n",
    "    model.reset_states()\n",
    " # evaluate model on test data\n",
    "    raw_test = raw[-(len(test)+1):]\n",
    "    test_rmse.append(evaluate(model, raw_test, test, scaler, 0, batch_size))\n",
    "    model.reset_states()\n",
    "    history = pd.DataFrame()\n",
    "    history['train'], history['test'] = train_rmse, test_rmse\n",
    " return history\n",
    "\"\"\"\n"
   ]
  },
  {
   "cell_type": "code",
   "execution_count": 17,
   "id": "4092dd65",
   "metadata": {},
   "outputs": [
    {
     "ename": "NameError",
     "evalue": "name 'model' is not defined",
     "output_type": "error",
     "traceback": [
      "\u001b[1;31m---------------------------------------------------------------------------\u001b[0m",
      "\u001b[1;31mNameError\u001b[0m                                 Traceback (most recent call last)",
      "\u001b[1;32mc:\\Users\\Zeonice\\Desktop\\Capstone\\Code\\3. NN - Copy.ipynb Cell 18\u001b[0m in \u001b[0;36m<cell line: 1>\u001b[1;34m()\u001b[0m\n\u001b[1;32m----> <a href='vscode-notebook-cell:/c%3A/Users/Zeonice/Desktop/Capstone/Code/3.%20NN%20-%20Copy.ipynb#X23sZmlsZQ%3D%3D?line=0'>1</a>\u001b[0m model\u001b[39m.\u001b[39mpredict(X)\n",
      "\u001b[1;31mNameError\u001b[0m: name 'model' is not defined"
     ]
    }
   ],
   "source": [
    "model.predict(X)"
   ]
  },
  {
   "cell_type": "code",
   "execution_count": 57,
   "id": "2eb0a5d7",
   "metadata": {},
   "outputs": [
    {
     "data": {
      "text/plain": [
       "(258,)"
      ]
     },
     "execution_count": 57,
     "metadata": {},
     "output_type": "execute_result"
    }
   ],
   "source": [
    "y.shape"
   ]
  },
  {
   "cell_type": "code",
   "execution_count": null,
   "id": "0b749fed",
   "metadata": {},
   "outputs": [],
   "source": []
  }
 ],
 "metadata": {
  "kernelspec": {
   "display_name": "Python 3",
   "language": "python",
   "name": "python3"
  },
  "language_info": {
   "codemirror_mode": {
    "name": "ipython",
    "version": 3
   },
   "file_extension": ".py",
   "mimetype": "text/x-python",
   "name": "python",
   "nbconvert_exporter": "python",
   "pygments_lexer": "ipython3",
   "version": "3.10.10"
  },
  "vscode": {
   "interpreter": {
    "hash": "e19db1e9da599290b8ff42b0f8e8323be965d18c8fa7c16db7240545f8fbedb0"
   }
  }
 },
 "nbformat": 4,
 "nbformat_minor": 5
}
