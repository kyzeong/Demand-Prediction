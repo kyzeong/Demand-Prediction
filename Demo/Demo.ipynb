{
 "cells": [
  {
   "attachments": {},
   "cell_type": "markdown",
   "id": "3e6077e3",
   "metadata": {},
   "source": [
    "For demo purposes."
   ]
  },
  {
   "attachments": {},
   "cell_type": "markdown",
   "id": "c8812e64",
   "metadata": {},
   "source": [
    "# Table of Content\n",
    "\n",
    "1. [Data_Dictionary](#data-dictionary)\n",
    "2. [Demo](#demo)"
   ]
  },
  {
   "attachments": {},
   "cell_type": "markdown",
   "id": "062770fe",
   "metadata": {},
   "source": [
    "# Data Dictionary"
   ]
  },
  {
   "attachments": {},
   "cell_type": "markdown",
   "id": "ad6b588a",
   "metadata": {},
   "source": [
    "|Feature|Type|Description|\n",
    "|---|---|---|\n",
    "|Product_Code|*string*|The product name encoded|\n",
    "|Warehouse|*string*|Warehouse ID|\n",
    "|Product_Category|*string*|Product category of each product|\n",
    "|Date|*string*|The date customer needs the product|\n",
    "|Order_Demand|*string*|Order quantity|"
   ]
  },
  {
   "cell_type": "code",
   "execution_count": 11,
   "id": "52f64c2b",
   "metadata": {},
   "outputs": [],
   "source": [
    "# Import libraries.\n",
    "import numpy as np\n",
    "import pandas as pd\n",
    "import matplotlib.pyplot as plt\n",
    "import tensorflow as tf\n",
    "from numpy.random import seed\n",
    "from numpy import array\n",
    "from sklearn.preprocessing import StandardScaler\n",
    "from tensorflow.keras.models import Sequential\n",
    "from tensorflow.keras.layers import LSTM, Dense\n",
    "from tensorflow.keras.optimizers import Adam"
   ]
  },
  {
   "cell_type": "code",
   "execution_count": 12,
   "id": "59efff99",
   "metadata": {},
   "outputs": [
    {
     "data": {
      "text/plain": [
       "(924272, 5)"
      ]
     },
     "execution_count": 12,
     "metadata": {},
     "output_type": "execute_result"
    }
   ],
   "source": [
    "# Read csv file and display shape.\n",
    "df = pd.read_csv('../Data_Historical/df2.csv').iloc[:,1:]\n",
    "\n",
    "# Get list of product codes.\n",
    "products = df['Product_Code'].unique()\n",
    "df.shape"
   ]
  },
  {
   "cell_type": "code",
   "execution_count": 13,
   "id": "e476b0a1",
   "metadata": {},
   "outputs": [],
   "source": [
    "# choose a number of time steps and features\n",
    "n_steps = 1\n",
    "n_features = 1"
   ]
  },
  {
   "cell_type": "code",
   "execution_count": 14,
   "id": "6143555c",
   "metadata": {},
   "outputs": [],
   "source": [
    "# Function to clean and resample order demand.\n",
    "def get_product(data,product_code):\n",
    "    df_init = data[data['Product_Code']==product_code]\n",
    "    df_init['Date'] = pd.to_datetime(df_init['Date'])\n",
    "    df_init = df_init.set_index('Date')\n",
    "    df_out = pd.DataFrame(df_init['Order_Demand'].resample('W').sum())\n",
    "    df_out.rename(columns={'Order_Demand':'demand'+'_'+product_code[-4:]}, inplace=True)\n",
    "    return df_out"
   ]
  },
  {
   "cell_type": "code",
   "execution_count": 15,
   "id": "b89efc4b",
   "metadata": {},
   "outputs": [],
   "source": [
    "# split a univariate sequence\n",
    "def split_sequence(sequence, n_steps):\n",
    " X, y = list(), list()\n",
    " \n",
    " for i in range(len(sequence)):\n",
    "    # find the end of this pattern\n",
    "    end_ix = i + n_steps\n",
    "    \n",
    "    # check if we are beyond the sequence\n",
    "    if end_ix > len(sequence)-1:\n",
    "        break\n",
    "    \n",
    "    # gather input and output parts of the pattern\n",
    "    seq_x, seq_y = sequence[i:end_ix], sequence[end_ix]\n",
    "    X.append(seq_x)\n",
    "    y.append(seq_y)\n",
    " return array(X), array(y)"
   ]
  },
  {
   "cell_type": "code",
   "execution_count": 16,
   "id": "b3256cb5",
   "metadata": {},
   "outputs": [],
   "source": [
    "# Function to apply standard scaling to input.\n",
    "def scale(X_train): \n",
    " # fit scaler\n",
    " scaler = StandardScaler()\n",
    " # Fit & transform train\n",
    " X_train = scaler.fit_transform(X_train.reshape(-1, X_train.shape[-1])).reshape(X_train.shape)\n",
    " return scaler, X_train"
   ]
  },
  {
   "cell_type": "code",
   "execution_count": 17,
   "id": "c0e0275a",
   "metadata": {},
   "outputs": [],
   "source": [
    "# Function to reshape and scale the previous week's sales.\n",
    "def reshape_scale(y0, scaler):\n",
    "    # Reshape to (1,1,1)\n",
    "    wk0 = y0[-1:].reshape((1,1,n_features))\n",
    "    # Transform to standard scaling\n",
    "    wk0 = scaler.transform(wk0.reshape(-1, wk0.shape[-1])).reshape(wk0.shape)\n",
    "    return wk0"
   ]
  },
  {
   "cell_type": "code",
   "execution_count": 18,
   "id": "13a6bc5a",
   "metadata": {},
   "outputs": [],
   "source": [
    "# LSTM Model.\n",
    "def fit_lstm (X, y):\n",
    "    model = Sequential()\n",
    "    model.add(LSTM(64, activation='relu', return_sequences=True,  input_shape=(n_steps, n_features))) \n",
    "    model.add(LSTM(32, activation='relu'))\n",
    "    model.add(Dense(1))\n",
    "    model.compile(optimizer=Adam(learning_rate=.001), loss='mse')\n",
    "    lstm = model.fit(X, y, epochs=100, verbose=0, batch_size=32)\n",
    "    return model, lstm"
   ]
  },
  {
   "cell_type": "code",
   "execution_count": 19,
   "id": "6a2dcef5",
   "metadata": {},
   "outputs": [],
   "source": [
    "# Function to run the model and predictions\n",
    "def run(df, product):\n",
    "    n_steps = 1\n",
    "    n_features = 1\n",
    "    preds = list()   \n",
    "    # Create dataframe of Product\n",
    "    prod = get_product(df, product)\n",
    "    # define input sequence\n",
    "    raw_seq = prod.iloc[:,0]\n",
    "    # split into samples\n",
    "    X, y = split_sequence(raw_seq, n_steps)\n",
    "    # reshape from [samples, timesteps] into [samples, timesteps, features]\n",
    "    X = X.reshape((X.shape[0], X.shape[1], n_features))\n",
    "    # Standard scaling X\n",
    "    scaler, X_scaled = scale(X)\n",
    "    model, lstm = fit_lstm(X_scaled, y)\n",
    "    wk0 = reshape_scale(y[-1:], scaler)\n",
    "    # Predict Week 1\n",
    "    predwk1 = model.predict(wk0)\n",
    "    preds.append(predwk1)\n",
    "    # Predict Week 2\n",
    "    predwk2 = model.predict(reshape_scale(predwk1, scaler))\n",
    "    preds.append(predwk2)\n",
    "    # Predict Week 3\n",
    "    predwk3 = model.predict(reshape_scale(predwk2, scaler))\n",
    "    preds.append(predwk3)\n",
    "    # Predict Week 4\n",
    "    predwk4 = model.predict(reshape_scale(predwk3, scaler))\n",
    "    preds.append(predwk4)\n",
    "    # Reshape predictions to 2 D\n",
    "    reshaped = np.reshape(preds, (4,))\n",
    "    return reshaped"
   ]
  },
  {
   "attachments": {},
   "cell_type": "markdown",
   "id": "60dd493b",
   "metadata": {},
   "source": [
    "# Demo"
   ]
  },
  {
   "cell_type": "code",
   "execution_count": 20,
   "id": "26f4169f",
   "metadata": {},
   "outputs": [
    {
     "name": "stderr",
     "output_type": "stream",
     "text": [
      "C:\\Users\\Zeonice\\AppData\\Local\\Temp\\ipykernel_14328\\184514828.py:4: SettingWithCopyWarning: \n",
      "A value is trying to be set on a copy of a slice from a DataFrame.\n",
      "Try using .loc[row_indexer,col_indexer] = value instead\n",
      "\n",
      "See the caveats in the documentation: https://pandas.pydata.org/pandas-docs/stable/user_guide/indexing.html#returning-a-view-versus-a-copy\n",
      "  df_init['Date'] = pd.to_datetime(df_init['Date'])\n"
     ]
    },
    {
     "name": "stdout",
     "output_type": "stream",
     "text": [
      "1/1 [==============================] - 0s 293ms/step\n",
      "1/1 [==============================] - 0s 28ms/step\n",
      "1/1 [==============================] - 0s 28ms/step\n",
      "1/1 [==============================] - 0s 28ms/step\n"
     ]
    },
    {
     "data": {
      "text/html": [
       "<div>\n",
       "<style scoped>\n",
       "    .dataframe tbody tr th:only-of-type {\n",
       "        vertical-align: middle;\n",
       "    }\n",
       "\n",
       "    .dataframe tbody tr th {\n",
       "        vertical-align: top;\n",
       "    }\n",
       "\n",
       "    .dataframe thead th {\n",
       "        text-align: right;\n",
       "    }\n",
       "</style>\n",
       "<table border=\"1\" class=\"dataframe\">\n",
       "  <thead>\n",
       "    <tr style=\"text-align: right;\">\n",
       "      <th></th>\n",
       "      <th>Product_0614</th>\n",
       "    </tr>\n",
       "  </thead>\n",
       "  <tbody>\n",
       "    <tr>\n",
       "      <th>0</th>\n",
       "      <td>46</td>\n",
       "    </tr>\n",
       "    <tr>\n",
       "      <th>1</th>\n",
       "      <td>37</td>\n",
       "    </tr>\n",
       "    <tr>\n",
       "      <th>2</th>\n",
       "      <td>38</td>\n",
       "    </tr>\n",
       "    <tr>\n",
       "      <th>3</th>\n",
       "      <td>38</td>\n",
       "    </tr>\n",
       "  </tbody>\n",
       "</table>\n",
       "</div>"
      ],
      "text/plain": [
       "   Product_0614\n",
       "0            46\n",
       "1            37\n",
       "2            38\n",
       "3            38"
      ]
     },
     "execution_count": 20,
     "metadata": {},
     "output_type": "execute_result"
    }
   ],
   "source": [
    "target = 'Product_0614'\n",
    "predictions = run(df, target)\n",
    "df_prod = pd.DataFrame({target:predictions})\n",
    "df_prod = df_prod.astype(int)\n",
    "df_prod"
   ]
  },
  {
   "cell_type": "code",
   "execution_count": null,
   "id": "1a5e9479",
   "metadata": {},
   "outputs": [],
   "source": []
  }
 ],
 "metadata": {
  "kernelspec": {
   "display_name": "Python 3",
   "language": "python",
   "name": "python3"
  },
  "language_info": {
   "codemirror_mode": {
    "name": "ipython",
    "version": 3
   },
   "file_extension": ".py",
   "mimetype": "text/x-python",
   "name": "python",
   "nbconvert_exporter": "python",
   "pygments_lexer": "ipython3",
   "version": "3.10.10"
  },
  "vscode": {
   "interpreter": {
    "hash": "e19db1e9da599290b8ff42b0f8e8323be965d18c8fa7c16db7240545f8fbedb0"
   }
  }
 },
 "nbformat": 4,
 "nbformat_minor": 5
}
